{
 "cells": [
  {
   "cell_type": "markdown",
   "id": "351230c1-55d4-4dd9-886b-f081ae093e05",
   "metadata": {},
   "source": [
    "# 2_1_ClimateTuning\n",
    "Before we can work on forecasting and tuning with the model, we will have to generate a climate forecasting model. As part of the forecasting challenge, there is a gap between the input data and the output. Essentially, we can only use data up to EW 25 of year $t$ and we need to forecast for EW 41 year $t$ to EW40 year $t+1$. This gap includes both dengue and climate data. We try tuning three different models here: (1) linear regression, (2) random forest, (3) XGBoost, focussing only on the lags hyperparameter."
   ]
  },
  {
   "cell_type": "code",
   "execution_count": 1,
   "id": "d15b5b6a-77c7-4448-8cce-53a56031c3ab",
   "metadata": {},
   "outputs": [],
   "source": [
    "import pandas as pd\n",
    "import numpy as np\n",
    "import torch \n",
    "import os\n",
    "import json\n",
    "\n",
    "from darts import TimeSeries, concatenate\n",
    "from darts.utils.callbacks import TFMProgressBar\n",
    "from darts.metrics import mape, smape, mse, rmse, mae, mql, ql\n",
    "from darts.dataprocessing.transformers import Scaler\n",
    "from darts.dataprocessing.transformers import StaticCovariatesTransformer\n",
    "from sklearn.preprocessing import MinMaxScaler\n",
    "import optuna\n",
    "from optuna.samplers import TPESampler\n",
    "from darts.models import (\n",
    "    RandomForestModel,\n",
    "    LinearRegressionModel,\n",
    "    XGBModel\n",
    ")\n",
    "from darts.utils.likelihood_models import GaussianLikelihood, PoissonLikelihood, QuantileRegression\n",
    "import matplotlib.pyplot as plt\n",
    "from pytorch_lightning.callbacks import Callback, EarlyStopping\n",
    "import pickle\n",
    "pd.options.mode.copy_on_write = True\n",
    "random_seed = 20\n"
   ]
  },
  {
   "cell_type": "markdown",
   "id": "cc1024ce-9678-49fc-a261-0c3ee17ad35c",
   "metadata": {
    "jp-MarkdownHeadingCollapsed": true
   },
   "source": [
    "## 0. Helper Functions and Globals"
   ]
  },
  {
   "cell_type": "code",
   "execution_count": 2,
   "id": "5d58875c-e087-40ea-9916-d74084f32a60",
   "metadata": {},
   "outputs": [],
   "source": [
    "clim_var_names = [\"temp_min\", \"temp_med\", \"temp_max\", \"precip_min\", \"precip_med\", \"precip_max\", \"pressure_min\", \"pressure_med\", \"pressure_max\", \"rel_humid_min\", \"rel_humid_med\", \"rel_humid_max\"]"
   ]
  },
  {
   "cell_type": "code",
   "execution_count": 3,
   "id": "14bd978c-e74e-4d80-aa23-b7e701fc0d42",
   "metadata": {},
   "outputs": [],
   "source": [
    "def plot_mv_series(obs_ts, preds_ts, curr_fig_dims, curr_val_cols, width, height, train_ts = None, train_ts_length = None): \n",
    "    fig, axs = plt.subplots(curr_fig_dims[0], curr_fig_dims[1], figsize = (width,  height))\n",
    "    for curr_col, curr_ax in zip(curr_val_cols, axs.flatten()):\n",
    "        if train_ts is not None:\n",
    "            if train_ts_length is not None:\n",
    "                train_ts[curr_col][-train_ts_length:].plot(label = \"Training\", ax = curr_ax)\n",
    "            else:\n",
    "                train_ts[curr_col].plot(label = \"Training\", ax = curr_ax)\n",
    "        obs_ts[curr_col].plot(label = \"Observed\", ax = curr_ax)\n",
    "        preds_ts[curr_col].plot(label = \"Forecasted\", ax = curr_ax)\n",
    "        curr_ax.set_title(curr_col)\n",
    "        curr_ax.set_xlabel(\"\")\n",
    "\n",
    "\n",
    "def log_bound(x, lower, upper, plus_1 = True, eps = 1e-6):\n",
    "    \"\"\"\n",
    "    Transforms some value x such that when we forecast it, it will always be between lower and upper\n",
    "    \"\"\"\n",
    "    if plus_1: \n",
    "        x += 1\n",
    "        lower += 1\n",
    "        upper += 1\n",
    "        \n",
    "    y = np.log1p((x - lower)/(upper - x + eps))\n",
    "    return y\n",
    "\n",
    "def inv_log_bounds(y, lower, upper, plus_1 = True, eps = 1e-6):\n",
    "    \"\"\"\n",
    "    Inverse of the log_bounds transformation above\n",
    "    \"\"\"\n",
    "    exp_y = np.exp(y)\n",
    "    numerator = (exp_y - 1) * (upper + eps) + lower\n",
    "    denominator = exp_y\n",
    "    return numerator / denominator\n",
    "\n",
    "def generate_preds_obs_plot(train_list, obs_list, preds_list, uf_list, uf_sub_list, clim_var_names = clim_var_names, label_list = None, width = 20, height = 42, show_train = True):\n",
    "    to_vis_train = [curr_ts for curr_ts, curr_uf in zip(train_list, uf_list) if curr_uf in uf_sub_list]\n",
    "    to_vis_preds_list = [curr_ts for curr_ts, curr_uf in zip(preds_list, uf_list) if curr_uf in uf_sub_list]\n",
    "    to_vis_obs_list = [curr_ts for curr_ts, curr_uf in zip(obs_list, uf_list) if curr_uf in uf_sub_list]\n",
    "    fig, axs = plt.subplots(len(clim_var_names), len(uf_sub_list), figsize = (width,  height))\n",
    "    if label_list is None:\n",
    "        label_list = uf_sub_list\n",
    "    else:\n",
    "        label_list = [curr_label for curr_label, curr_uf in zip(label_list, uf_list) if curr_uf in uf_sub_list]\n",
    "    for ind1, (curr_train, curr_obs, curr_preds, curr_label) in enumerate(zip(to_vis_train, to_vis_obs_list, to_vis_preds_list, label_list)):\n",
    "        for ind2, curr_var in enumerate(clim_var_names):\n",
    "            if show_train:\n",
    "                curr_train[curr_var].plot(ax = axs[ind2][ind1], label = \"Training\")\n",
    "            curr_obs[curr_var].plot(ax = axs[ind2][ind1], label = \"Observed\")\n",
    "            curr_preds[curr_var].plot(ax = axs[ind2][ind1], label = \"Forecasted\")\n",
    "            axs[ind2][ind1].set_xlabel(\"\")\n",
    "            axs[ind2][ind1].set_ylabel(curr_var)\n",
    "            axs[ind2][ind1].set_title(curr_label)\n",
    "\n",
    "def norm_metric(curr_obs, curr_preds, curr_normer, summ_func = None, metric = mae):\n",
    "    \"\"\"\n",
    "    Computes a normalised version of some Darts metric given an observed, predicted, and normalising TimeSeries.\n",
    "    Note that this function assumes that all inputs are on their natural scales (should invert any log transforms or min-max scaling)\n",
    "\n",
    "    Parameters:\n",
    "    curr_obs (TimeSeries): Darts TimeSeries of observed values to compute metrics against\n",
    "    curr_preds (TimeSeries): Darts TimeSeries forecasted values to commpute metrics with\n",
    "    curr_normer (TimeSeries): Darts TimeSeries that serves as the basis of min-max values to normalise metrics (usually the training set)\n",
    "    summ_func (function): Function to summarise the normalised per component metrics\n",
    "    metric (function): Darts metric function (see: https://unit8co.github.io/darts/generated_api/darts.metrics.metrics.html)\n",
    "\n",
    "    Returns:\n",
    "    Value of the computed metric summarised (if summ_func is not None) or an array containing the metric per component (if summ_func is None)\n",
    "    \"\"\"\n",
    "    curr_preds = curr_preds.slice_intersect(curr_obs) #Get the part of the forecast that intersects with the observation\n",
    "    assert len(curr_preds) == len(curr_obs) #Check that the forecasts and observations match in length\n",
    "    \n",
    "    bounds_list = [] \n",
    "    for comp in curr_normer.components: #Use the normer series to find the min and max per component\n",
    "        values = curr_normer[comp].values()\n",
    "        comp_min = values.min()\n",
    "        comp_max = values.max()\n",
    "        bounds_list.append((comp_min, comp_max))\n",
    "    \n",
    "    met_per_comp = metric(curr_obs, curr_preds, component_reduction = None) #Get the metric value per component\n",
    "    norm_met_vals = []\n",
    "    for met, min_max in zip(met_per_comp, bounds_list):\n",
    "        curr_min = min_max[0]\n",
    "        curr_max = min_max[1]\n",
    "        norm_met_vals.append(met / (curr_max - curr_min)) #Normalise the component error based on the min and max for each component\n",
    "    norm_met_vals = np.array(norm_met_vals)\n",
    "\n",
    "    #Whether to summarise the metric values or to just return the whole array\n",
    "    if summ_func is None:\n",
    "        return norm_met_vals\n",
    "    else:\n",
    "        return summ_func(norm_met_vals)\n",
    "\n",
    "def norm_metric_list(obs_list, preds_list, normer_list, comp_summ_func = None, series_summ_func = None, metric = mae):\n",
    "    \"\"\"\n",
    "    Computes a normalised metric using a list of observed, predicted, and normalising series. Function assumes that all series are on\n",
    "    their natural scales. \n",
    "\n",
    "    Parameters:\n",
    "    obs_list (list): List of Darts TimeSeries containing observed values to compute metrics against\n",
    "    preds_list (list): List of Darts TimeSeries containing forecasted values to commpute metrics with\n",
    "    normer_list (list): List of Darts TimeSeries that serve as the basis of min-max values to normalise metrics (usually the training set)\n",
    "    comp_summ_func (function): Function to summarise the normalised per component metrics\n",
    "    series_summ_func (function): Function to summarise metrics across different series\n",
    "    metric (function): Darts metric function (see: https://unit8co.github.io/darts/generated_api/darts.metrics.metrics.html)\n",
    "    \"\"\"\n",
    "    result = []\n",
    "    for curr_obs, curr_preds, curr_normer in zip(obs_list, preds_list, normer_list):\n",
    "        met_val = norm_metric(curr_obs, curr_preds, curr_normer, summ_func = comp_summ_func, metric = metric)\n",
    "        result.append(met_val)\n",
    "    result = np.array(result)\n",
    "\n",
    "    if series_summ_func is None:\n",
    "        return result\n",
    "    else:\n",
    "        return series_summ_func(result)\n",
    "\n",
    "#def generate_component_metrics_table(obs_list, preds_list, label_list, label_name, component_names, normer_list = None, metrics = [mae], metric_names = [\"MAE\"], disp_mode = False):\n",
    "def generate_component_metric_table(obs_list, preds_list, label_list, label_name, component_names, curr_metric, normer_list = None, disp_mode = False):\n",
    "    \"\"\"\n",
    "    Function generates a table meant to display the error per state per component\n",
    "    \"\"\"\n",
    "    table_builder = []\n",
    "    if normer_list is not None: \n",
    "        metric_res = norm_metric_list(obs_list, preds_list, normer_list, metric = curr_metric)\n",
    "    else:\n",
    "        metric_res = curr_metric(obs_list, preds_list, component_reduction = None)\n",
    "    \n",
    "    for curr_label, curr_errors in zip(label_list, metric_res):\n",
    "        curr_dict = {label_name: curr_label}\n",
    "        for curr_comp, curr_comp_error in zip(component_names, curr_errors):\n",
    "            curr_dict[curr_comp] = curr_comp_error\n",
    "        table_builder.append(curr_dict)\n",
    "        \n",
    "    curr_table = pd.DataFrame(table_builder)\n",
    "    \n",
    "    if disp_mode:\n",
    "        disp_table = curr_table.copy()\n",
    "        summ_row = {label_name: \"Summary\"}\n",
    "        for curr_comp in component_names:\n",
    "            central = np.mean(curr_table[curr_comp])\n",
    "            lower = np.min(curr_table[curr_comp])\n",
    "            upper = np.max(curr_table[curr_comp])\n",
    "            summ_row[curr_comp] = \"%.3f (%.3f to %.3f)\" % (central, lower, upper)\n",
    "            disp_table[curr_comp] = disp_table.apply(lambda row: \"%.3f\" % row[curr_comp], axis = 1)\n",
    "        disp_table = pd.concat([disp_table, pd.DataFrame([summ_row])])\n",
    "        return disp_table\n",
    "    \n",
    "    return curr_table\n",
    "\n",
    "def generate_series_metrics_table(obs_list, preds_list, label_list, label_name, metrics = [mae, rmse], metric_names = [\"MAE\", \"RMSE\"],  normer_list = None, disp_mode = False):\n",
    "    \"\"\"\n",
    "    Function displays multiple error metrics (each the mean across components) per state\n",
    "    \"\"\"\n",
    "    if normer_list is not None:\n",
    "        metric_names = [\"Norm_\" + curr_name for curr_name in metric_names]\n",
    "    curr_table = pd.DataFrame([{label_name: curr_label} for curr_label in label_list])\n",
    "    for curr_metric, curr_metric_name in zip(metrics, metric_names):\n",
    "        if normer_list is not None: \n",
    "            curr_res = norm_metric_list(obs_list, preds_list, normer_list, comp_summ_func = np.mean, metric = curr_metric)\n",
    "        else:\n",
    "            curr_res = metric(obs_list, preds_list)\n",
    "        curr_table[curr_metric_name] = curr_res\n",
    "    \n",
    "    if disp_mode:\n",
    "        disp_table = curr_table.copy()\n",
    "        summ_row = {label_name: \"Summary\"}\n",
    "        for curr_metric_name in metric_names:\n",
    "            central = np.mean(curr_table[curr_metric_name])\n",
    "            lower = np.min(curr_table[curr_metric_name])\n",
    "            upper = np.max(curr_table[curr_metric_name])\n",
    "            summ_row[curr_metric_name] = \"%.3f (%.3f to %.3f)\" % (central, lower, upper)\n",
    "            disp_table[curr_metric_name] = disp_table.apply(lambda row: \"%.3f\" % row[curr_metric_name], axis = 1)\n",
    "            \n",
    "        disp_table = pd.concat([disp_table, pd.DataFrame([summ_row])])\n",
    "        return disp_table\n",
    "        \n",
    "    return curr_table\n",
    "\n",
    "def dict_as_json(curr_json, path):\n",
    "    with open(path, \"w\") as f:\n",
    "        json.dump(curr_json, f, indent = 4)\n",
    "\n",
    "def save_pickle(to_save, save_path):\n",
    "    with open(save_path, \"wb\") as file:\n",
    "        pickle.dump(to_save, file)\n",
    "\n",
    "def load_pickle(load_path):\n",
    "    to_ret = None \n",
    "    with open(load_path, \"rb\") as file:\n",
    "        to_ret = pickle.load(file)\n",
    "    return(to_ret)\n"
   ]
  },
  {
   "cell_type": "markdown",
   "id": "a2986d93-fc63-4941-bd17-4b9f42714b5c",
   "metadata": {},
   "source": [
    "## 1. Reading Input\n",
    "First, we read in the input files: (1) a weekly calendar - which also includes flags for inclusion in the different data sets, (2) SST Indices, (3) Climate data."
   ]
  },
  {
   "cell_type": "code",
   "execution_count": 4,
   "id": "ad8b45c8-cd37-4df0-a489-18553fedd2cd",
   "metadata": {},
   "outputs": [],
   "source": [
    "global_scale = False\n",
    "retrain_per_fold = True\n",
    "approach = \"forecast_gap\"\n",
    "\n",
    "tuning_name = \"Notebook_24_07_2025\"\n",
    "base_dir = os.getcwd()\n",
    "model_input_dir = os.path.join(base_dir, \"ModelInput\")\n",
    "tuning_dir = os.path.join(base_dir, \"Climate Tuning\", tuning_name)\n",
    "\n",
    "os.makedirs(tuning_dir, exist_ok = True)\n",
    "\n",
    "tuning_details = {\"clim_var_names\": clim_var_names, \"global_scale\": global_scale, \"retrain_per_fold\": retrain_per_fold, \"approach\": approach}\n",
    "dict_as_json(tuning_details, os.path.join(tuning_dir, \"tuning_details.json\"))"
   ]
  },
  {
   "cell_type": "code",
   "execution_count": 5,
   "id": "bc99c7e9-b688-4ccf-9560-52322a2cb4a5",
   "metadata": {},
   "outputs": [],
   "source": [
    "weekly_cal = pd.read_csv(os.path.join(model_input_dir, \"Calendar.csv\"))\n",
    "sst_df = pd.read_csv(os.path.join(model_input_dir, \"SSTIndices.csv\"))\n",
    "climate_df = pd.read_csv(os.path.join(model_input_dir, \"TimeVaryingCovs.csv\"))\n",
    "\n",
    "#Remove uf = \"ES\" since there is no dengue data for Espirito Santo\n",
    "climate_df = climate_df[climate_df[\"uf\"] != \"ES\"]"
   ]
  },
  {
   "cell_type": "code",
   "execution_count": 6,
   "id": "38e9ae3f-de2f-456f-a1c5-ebba2b0f6248",
   "metadata": {},
   "outputs": [
    {
     "data": {
      "text/html": [
       "<div>\n",
       "<style scoped>\n",
       "    .dataframe tbody tr th:only-of-type {\n",
       "        vertical-align: middle;\n",
       "    }\n",
       "\n",
       "    .dataframe tbody tr th {\n",
       "        vertical-align: top;\n",
       "    }\n",
       "\n",
       "    .dataframe thead th {\n",
       "        text-align: right;\n",
       "    }\n",
       "</style>\n",
       "<table border=\"1\" class=\"dataframe\">\n",
       "  <thead>\n",
       "    <tr style=\"text-align: right;\">\n",
       "      <th></th>\n",
       "      <th>epiweek</th>\n",
       "      <th>Year</th>\n",
       "      <th>Week</th>\n",
       "      <th>WeekStart</th>\n",
       "      <th>WeekMid</th>\n",
       "      <th>WeekEnd</th>\n",
       "      <th>clim_train1</th>\n",
       "      <th>clim_val1</th>\n",
       "      <th>clim_train2</th>\n",
       "      <th>clim_val2</th>\n",
       "      <th>clim_train3</th>\n",
       "      <th>clim_val3</th>\n",
       "      <th>clim_test</th>\n",
       "      <th>clim_test_input</th>\n",
       "    </tr>\n",
       "  </thead>\n",
       "  <tbody>\n",
       "    <tr>\n",
       "      <th>1</th>\n",
       "      <td>201001</td>\n",
       "      <td>2010</td>\n",
       "      <td>1</td>\n",
       "      <td>2010-01-03</td>\n",
       "      <td>2010-01-07</td>\n",
       "      <td>2010-01-09</td>\n",
       "      <td>True</td>\n",
       "      <td>False</td>\n",
       "      <td>True</td>\n",
       "      <td>False</td>\n",
       "      <td>True</td>\n",
       "      <td>False</td>\n",
       "      <td>False</td>\n",
       "      <td>True</td>\n",
       "    </tr>\n",
       "    <tr>\n",
       "      <th>2</th>\n",
       "      <td>201002</td>\n",
       "      <td>2010</td>\n",
       "      <td>2</td>\n",
       "      <td>2010-01-10</td>\n",
       "      <td>2010-01-14</td>\n",
       "      <td>2010-01-16</td>\n",
       "      <td>True</td>\n",
       "      <td>False</td>\n",
       "      <td>True</td>\n",
       "      <td>False</td>\n",
       "      <td>True</td>\n",
       "      <td>False</td>\n",
       "      <td>False</td>\n",
       "      <td>True</td>\n",
       "    </tr>\n",
       "    <tr>\n",
       "      <th>3</th>\n",
       "      <td>201003</td>\n",
       "      <td>2010</td>\n",
       "      <td>3</td>\n",
       "      <td>2010-01-17</td>\n",
       "      <td>2010-01-21</td>\n",
       "      <td>2010-01-23</td>\n",
       "      <td>True</td>\n",
       "      <td>False</td>\n",
       "      <td>True</td>\n",
       "      <td>False</td>\n",
       "      <td>True</td>\n",
       "      <td>False</td>\n",
       "      <td>False</td>\n",
       "      <td>True</td>\n",
       "    </tr>\n",
       "    <tr>\n",
       "      <th>4</th>\n",
       "      <td>201004</td>\n",
       "      <td>2010</td>\n",
       "      <td>4</td>\n",
       "      <td>2010-01-24</td>\n",
       "      <td>2010-01-28</td>\n",
       "      <td>2010-01-30</td>\n",
       "      <td>True</td>\n",
       "      <td>False</td>\n",
       "      <td>True</td>\n",
       "      <td>False</td>\n",
       "      <td>True</td>\n",
       "      <td>False</td>\n",
       "      <td>False</td>\n",
       "      <td>True</td>\n",
       "    </tr>\n",
       "    <tr>\n",
       "      <th>5</th>\n",
       "      <td>201005</td>\n",
       "      <td>2010</td>\n",
       "      <td>5</td>\n",
       "      <td>2010-01-31</td>\n",
       "      <td>2010-02-04</td>\n",
       "      <td>2010-02-06</td>\n",
       "      <td>True</td>\n",
       "      <td>False</td>\n",
       "      <td>True</td>\n",
       "      <td>False</td>\n",
       "      <td>True</td>\n",
       "      <td>False</td>\n",
       "      <td>False</td>\n",
       "      <td>True</td>\n",
       "    </tr>\n",
       "    <tr>\n",
       "      <th>...</th>\n",
       "      <td>...</td>\n",
       "      <td>...</td>\n",
       "      <td>...</td>\n",
       "      <td>...</td>\n",
       "      <td>...</td>\n",
       "      <td>...</td>\n",
       "      <td>...</td>\n",
       "      <td>...</td>\n",
       "      <td>...</td>\n",
       "      <td>...</td>\n",
       "      <td>...</td>\n",
       "      <td>...</td>\n",
       "      <td>...</td>\n",
       "      <td>...</td>\n",
       "    </tr>\n",
       "    <tr>\n",
       "      <th>805</th>\n",
       "      <td>202523</td>\n",
       "      <td>2025</td>\n",
       "      <td>23</td>\n",
       "      <td>2025-06-01</td>\n",
       "      <td>2025-06-05</td>\n",
       "      <td>2025-06-07</td>\n",
       "      <td>False</td>\n",
       "      <td>False</td>\n",
       "      <td>False</td>\n",
       "      <td>False</td>\n",
       "      <td>False</td>\n",
       "      <td>False</td>\n",
       "      <td>False</td>\n",
       "      <td>False</td>\n",
       "    </tr>\n",
       "    <tr>\n",
       "      <th>806</th>\n",
       "      <td>202524</td>\n",
       "      <td>2025</td>\n",
       "      <td>24</td>\n",
       "      <td>2025-06-08</td>\n",
       "      <td>2025-06-12</td>\n",
       "      <td>2025-06-14</td>\n",
       "      <td>False</td>\n",
       "      <td>False</td>\n",
       "      <td>False</td>\n",
       "      <td>False</td>\n",
       "      <td>False</td>\n",
       "      <td>False</td>\n",
       "      <td>False</td>\n",
       "      <td>False</td>\n",
       "    </tr>\n",
       "    <tr>\n",
       "      <th>807</th>\n",
       "      <td>202525</td>\n",
       "      <td>2025</td>\n",
       "      <td>25</td>\n",
       "      <td>2025-06-15</td>\n",
       "      <td>2025-06-19</td>\n",
       "      <td>2025-06-21</td>\n",
       "      <td>False</td>\n",
       "      <td>False</td>\n",
       "      <td>False</td>\n",
       "      <td>False</td>\n",
       "      <td>False</td>\n",
       "      <td>False</td>\n",
       "      <td>False</td>\n",
       "      <td>False</td>\n",
       "    </tr>\n",
       "    <tr>\n",
       "      <th>808</th>\n",
       "      <td>202526</td>\n",
       "      <td>2025</td>\n",
       "      <td>26</td>\n",
       "      <td>2025-06-22</td>\n",
       "      <td>2025-06-26</td>\n",
       "      <td>2025-06-28</td>\n",
       "      <td>False</td>\n",
       "      <td>False</td>\n",
       "      <td>False</td>\n",
       "      <td>False</td>\n",
       "      <td>False</td>\n",
       "      <td>False</td>\n",
       "      <td>False</td>\n",
       "      <td>False</td>\n",
       "    </tr>\n",
       "    <tr>\n",
       "      <th>809</th>\n",
       "      <td>202527</td>\n",
       "      <td>2025</td>\n",
       "      <td>27</td>\n",
       "      <td>2025-06-29</td>\n",
       "      <td>2025-07-03</td>\n",
       "      <td>2025-07-05</td>\n",
       "      <td>False</td>\n",
       "      <td>False</td>\n",
       "      <td>False</td>\n",
       "      <td>False</td>\n",
       "      <td>False</td>\n",
       "      <td>False</td>\n",
       "      <td>False</td>\n",
       "      <td>False</td>\n",
       "    </tr>\n",
       "  </tbody>\n",
       "</table>\n",
       "<p>809 rows × 14 columns</p>\n",
       "</div>"
      ],
      "text/plain": [
       "     epiweek  Year  Week   WeekStart     WeekMid     WeekEnd  clim_train1  \\\n",
       "1     201001  2010     1  2010-01-03  2010-01-07  2010-01-09         True   \n",
       "2     201002  2010     2  2010-01-10  2010-01-14  2010-01-16         True   \n",
       "3     201003  2010     3  2010-01-17  2010-01-21  2010-01-23         True   \n",
       "4     201004  2010     4  2010-01-24  2010-01-28  2010-01-30         True   \n",
       "5     201005  2010     5  2010-01-31  2010-02-04  2010-02-06         True   \n",
       "..       ...   ...   ...         ...         ...         ...          ...   \n",
       "805   202523  2025    23  2025-06-01  2025-06-05  2025-06-07        False   \n",
       "806   202524  2025    24  2025-06-08  2025-06-12  2025-06-14        False   \n",
       "807   202525  2025    25  2025-06-15  2025-06-19  2025-06-21        False   \n",
       "808   202526  2025    26  2025-06-22  2025-06-26  2025-06-28        False   \n",
       "809   202527  2025    27  2025-06-29  2025-07-03  2025-07-05        False   \n",
       "\n",
       "     clim_val1  clim_train2  clim_val2  clim_train3  clim_val3  clim_test  \\\n",
       "1        False         True      False         True      False      False   \n",
       "2        False         True      False         True      False      False   \n",
       "3        False         True      False         True      False      False   \n",
       "4        False         True      False         True      False      False   \n",
       "5        False         True      False         True      False      False   \n",
       "..         ...          ...        ...          ...        ...        ...   \n",
       "805      False        False      False        False      False      False   \n",
       "806      False        False      False        False      False      False   \n",
       "807      False        False      False        False      False      False   \n",
       "808      False        False      False        False      False      False   \n",
       "809      False        False      False        False      False      False   \n",
       "\n",
       "     clim_test_input  \n",
       "1               True  \n",
       "2               True  \n",
       "3               True  \n",
       "4               True  \n",
       "5               True  \n",
       "..               ...  \n",
       "805            False  \n",
       "806            False  \n",
       "807            False  \n",
       "808            False  \n",
       "809            False  \n",
       "\n",
       "[809 rows x 14 columns]"
      ]
     },
     "execution_count": 6,
     "metadata": {},
     "output_type": "execute_result"
    }
   ],
   "source": [
    "#Set info where validation sets in the main dengue forecasting part occur only during the dengue season W41-40 year t to t+1. \n",
    "set_info = weekly_cal[[\"epiweek\", \"Year\", \"Week\", \"WeekStart\", \"WeekMid\", \"WeekEnd\"]]\n",
    "set_info = set_info.iloc[1:]\n",
    "\n",
    "#Define the data sets using a column of booleans in the calendar. \n",
    "#all epiweek numbers are in YYYYWW integer format\n",
    "set_info[\"clim_train1\"] = set_info[\"epiweek\"] <= 201510\n",
    "set_info[\"clim_val1\"] = (set_info[\"epiweek\"] >= 201526) & (set_info[\"epiweek\"] <= 201625)\n",
    "set_info[\"clim_train2\"] = set_info[\"epiweek\"] <= 201610\n",
    "set_info[\"clim_val2\"] = (set_info[\"epiweek\"] >= 201626) & (set_info[\"epiweek\"] <= 201725)\n",
    "set_info[\"clim_train3\"] = set_info[\"epiweek\"] <= 201710\n",
    "set_info[\"clim_val3\"] = (set_info[\"epiweek\"] >= 201726) & (set_info[\"epiweek\"] <= 201825)\n",
    "set_info[\"clim_test\"] = (set_info[\"epiweek\"] >= 201841) & (set_info[\"epiweek\"] <= 201940)\n",
    "set_info[\"clim_test_input\"] = set_info[\"epiweek\"] <= 201825\n",
    "set_info"
   ]
  },
  {
   "cell_type": "markdown",
   "id": "82330883-50bf-49e5-81a9-1b547eff53a1",
   "metadata": {},
   "source": [
    "##  2. Creating TimeSeries from Climate Input"
   ]
  },
  {
   "cell_type": "code",
   "execution_count": 7,
   "id": "6c006988-e93f-4267-aac0-7354629475bb",
   "metadata": {
    "scrolled": true
   },
   "outputs": [],
   "source": [
    "def create_ts(data_df, val_cols, set_info = None, set_column = None, time_col = \"WeekStart\", time_format = \"%Y-%m-%d\"):\n",
    "    \"\"\"\n",
    "    Function creates a TimeSeries object from a DataFrame using only rows where set_column is true\n",
    "\n",
    "    Parameters:\n",
    "    data_df (DataFrame): DataFrame containing TimeSeries data (assumed in chronological order)\n",
    "    val_cols (list or string): Name(s) of the column(s) in data_df containing the values to make a TimeSeries (will be multivariate if a list with more than 1 element)\n",
    "    set_info (DataFrame): DataFrame to merge into data_df (assumed with Year, Week, and epiweek columns) containg set information\n",
    "    set_column (string): Name of the column containing booleans to be used for inclusion/exclusion in the output TimeSeries\n",
    "    time_col (string): Name of the column to be used as the time-axis of the output series\n",
    "    time_format (string): Format of the time column\n",
    "\n",
    "    Returns:\n",
    "    curr_ts: TimeSeries filtered based on set_column with values based on val_cols\n",
    "    \"\"\"\n",
    "    data_df[time_col] = pd.to_datetime(data_df[time_col], format = time_format)\n",
    "    data_df = data_df.set_index(time_col)\n",
    "\n",
    "    if set_info is not None:\n",
    "        #We assume the set_info DataFrame has Year, Week, and epiweek columns we can join on \n",
    "        data_df = pd.merge(data_df, set_info, how = \"left\", on = [\"Year\", \"Week\", \"epiweek\"]) \n",
    "    if set_column is not None:\n",
    "        data_df = data_df[data_df[set_column]]\n",
    "    \n",
    "    curr_ts = TimeSeries.from_times_and_values(times = data_df.index, values = data_df[val_cols], columns = val_cols)\n",
    "    return curr_ts\n",
    "\n",
    "\n",
    "def create_ts_list(data_df, val_cols, group_col, group_vals, set_info = None, set_column = None, time_col = \"WeekStart\", time_format = \"%Y-%m-%d\"):\n",
    "    \"\"\"\n",
    "    Function creates a list TimeSeries objects from a DataFrame. Each list element is a TimeSeries for a particular unit from group_vals, based on the group_col\n",
    "\n",
    "    Parameters:\n",
    "    data_df (DataFrame): DataFrame containing TimeSeries data (assumed in chronological order)\n",
    "    val_cols (list or string): Name(s) of the column(s) in data_df containing the values to make a TimeSeries (will be multivariate if a list with more than 1 element)\n",
    "    group_col (string): Name of the column to match with the units from group_vals\n",
    "    group_vals (list): List of values in the group_col to make a TimeSeries for. The list returned by this function will have a TimeSeries for each element in group_vals.\n",
    "    set_info (DataFrame): DataFrame to merge into data_df (assumed with Year, Week, and epiweek columns) containg set information\n",
    "    set_column (string): Name of the column containing booleans to be used for inclusion/exclusion in the output TimeSeries\n",
    "    time_col (string): Name of the column to be used as the time-axis of the output series\n",
    "    time_format (string): Format of the time column\n",
    "\n",
    "    Returns:\n",
    "    to_ret: list of TimeSeries, one for each element in group_vals\n",
    "    \"\"\"\n",
    "    to_ret = []\n",
    "    if set_info is not None:\n",
    "        data_df = pd.merge(data_df, set_info, how = \"left\", on = [\"Year\", \"Week\", \"epiweek\"])\n",
    "        \n",
    "    for curr_unit in group_vals:\n",
    "        curr_unit_df = data_df[data_df[group_col] == curr_unit]\n",
    "        curr_unit_ts = create_ts(curr_unit_df, val_cols, set_column = set_column, time_col = time_col, time_format = time_format) #No need to pass set_info here since we have already merged in this function\n",
    "        to_ret.append(curr_unit_ts)\n",
    "    return to_ret"
   ]
  },
  {
   "cell_type": "code",
   "execution_count": 8,
   "id": "6504a31c-68d1-4d7c-bfcc-8b7053907174",
   "metadata": {},
   "outputs": [],
   "source": [
    "uf_list = climate_df[\"uf\"].unique()\n",
    "uf_mapper = climate_df[[\"uf\", \"uf_name\"]].copy().drop_duplicates()\n",
    "uf_dict = dict(zip(uf_mapper[\"uf\"], uf_mapper[\"uf_name\"]))\n",
    "uf_name_list = [uf_dict[curr_uf] for curr_uf in uf_list]"
   ]
  },
  {
   "cell_type": "markdown",
   "id": "fcad9447-13fc-452b-aa72-2d69faaf2fe7",
   "metadata": {},
   "source": [
    "### 2.1 Pre-transforms\n",
    "Before we create TimeSeries for forecasting, we have to transform some values that have restricted forecast ranges. These are mainly precipitation values (which cannot be below 0) and rainy days (which are restricted from 0 to 7). "
   ]
  },
  {
   "cell_type": "code",
   "execution_count": 9,
   "id": "5920336b-6b1e-493c-8481-614e30917d7c",
   "metadata": {},
   "outputs": [],
   "source": [
    "log_trans_cols = [\"precip_min\", \"precip_med\", \"precip_max\"] #Logp1 transform the precipitation values\n",
    "#logit_trans_cols = [\"rainy_days\"] #Limit rainy days between 0-7 using our custom logit function\n",
    "proc_climate_df = climate_df.copy()\n",
    "\n",
    "#Compute pre-processed version of the climate_df, log-transforming the precipitation variables, which have to always be positive\n",
    "for curr_col in log_trans_cols:\n",
    "    proc_climate_df[curr_col] = np.log1p(climate_df[curr_col])"
   ]
  },
  {
   "cell_type": "markdown",
   "id": "654eccb4-9925-4f04-8f9f-b33c1877a631",
   "metadata": {},
   "source": [
    "### 2.2 Create TimeSeries\n",
    "Create the TimeSeries, we have 6 primary ones here, climate train1, val1, train2, val2, train3, and val3 (referred to as Clim 1a,b,c and ClimVal 1a,b,c in documentation). Once we have the 6 series, we then prepare them for modelling by scaling."
   ]
  },
  {
   "cell_type": "code",
   "execution_count": 10,
   "id": "21ad8de1-0624-4532-98ea-4541aadbef61",
   "metadata": {},
   "outputs": [],
   "source": [
    "def plot_ts_list(plot_list, label_list, plot_comps = None, dims = (7,4), width = 18, height = 24, low_quantile = 0.025, high_quantile = 0.975, fig = None, axs = None, prefixes = None):\n",
    "    fig, axs = plt.subplots(dims[0], dims[1], figsize = (width,  height))\n",
    "\n",
    "    if prefixes is None:\n",
    "        prefixes = [\"\" for temp in plot_list]\n",
    "\n",
    "    for ts_list, curr_prefix in zip(plot_list, prefixes):\n",
    "        for curr_ts, curr_label, curr_ax in zip(ts_list, label_list, axs.flatten()):\n",
    "            if plot_comps is not None:\n",
    "                to_plot = curr_ts[plot_comps]\n",
    "            else:\n",
    "                to_plot = curr_ts\n",
    "        \n",
    "            to_plot.plot(ax = curr_ax, label = curr_prefix, low_quantile = low_quantile, high_quantile = high_quantilte)\n",
    "            curr_ax.set_title(curr_label)\n",
    "            curr_ax.set_xlabel(\"\")\n",
    "\n",
    "#Revert pre-processing\n",
    "def invert_pre_process_ts(curr_ts, clim_var_names = clim_var_names, log_trans_cols = log_trans_cols, logit_trans_cols = []):\n",
    "    curr_builder = []\n",
    "    for curr_var in clim_var_names:\n",
    "        temp = curr_ts[curr_var] \n",
    "        if curr_var in log_trans_cols:\n",
    "            temp = temp.map(np.expm1)\n",
    "        elif curr_var in logit_trans_cols:\n",
    "            temp = temp.map(lambda y: inv_log_bounds(y, 0, 7))\n",
    "        curr_builder.append(temp)\n",
    "    \n",
    "    result_ts = concatenate(curr_builder, axis = 1)\n",
    "    return result_ts\n",
    "\n",
    "def invert_pre_process_ts_list(curr_ts_list, clim_var_names = clim_var_names, log_trans_cols = log_trans_cols, logit_trans_cols = []):\n",
    "    to_ret = []\n",
    "    for curr_ts in curr_ts_list:\n",
    "        result = invert_pre_process_ts(curr_ts, clim_var_names = clim_var_names, log_trans_cols = log_trans_cols, logit_trans_cols = logit_trans_cols)\n",
    "        to_ret.append(result)\n",
    "    return to_ret"
   ]
  },
  {
   "cell_type": "code",
   "execution_count": 11,
   "id": "527f58be-6da9-455b-a891-e47ab0def87e",
   "metadata": {},
   "outputs": [],
   "source": [
    "group_col = \"uf\"\n",
    "\n",
    "#Training set without the pre-processing, mainly for normalising error metrics\n",
    "train1 = create_ts_list(climate_df, clim_var_names, group_col, uf_list, set_info = set_info, set_column = \"clim_train1\")\n",
    "train2 = create_ts_list(climate_df, clim_var_names, group_col, uf_list, set_info = set_info, set_column = \"clim_train2\")\n",
    "train3 = create_ts_list(climate_df, clim_var_names, group_col, uf_list, set_info = set_info, set_column = \"clim_train3\")\n",
    "\n",
    "#Training sets with pre-processing for actual model training\n",
    "train1_log = create_ts_list(proc_climate_df, clim_var_names, group_col, uf_list, set_info = set_info, set_column = \"clim_train1\")\n",
    "train2_log = create_ts_list(proc_climate_df, clim_var_names, group_col, uf_list, set_info = set_info, set_column = \"clim_train2\")\n",
    "train3_log = create_ts_list(proc_climate_df, clim_var_names, group_col, uf_list, set_info = set_info, set_column = \"clim_train3\")\n",
    "\n",
    "#Note that since the validation and test sets are only used for evaluation / error calculation, we use the non pre-processed version (no log-transforms) \n",
    "val1 = create_ts_list(climate_df, clim_var_names, group_col, uf_list, set_info = set_info, set_column = \"clim_val1\")\n",
    "val2 = create_ts_list(climate_df, clim_var_names, group_col, uf_list, set_info = set_info, set_column = \"clim_val2\")\n",
    "val3 = create_ts_list(climate_df, clim_var_names, group_col, uf_list, set_info = set_info, set_column = \"clim_val3\")\n",
    "\n",
    "test_input_log = create_ts_list(proc_climate_df, clim_var_names, group_col, uf_list, set_info = set_info, set_column = \"clim_test_input\") # Input sequence for the final model to evaluate on test set\n",
    "test = create_ts_list(climate_df, clim_var_names, group_col, uf_list, set_info = set_info, set_column = \"clim_test\") #Test set for evaluation"
   ]
  },
  {
   "cell_type": "code",
   "execution_count": 12,
   "id": "a546c55c-5171-436b-bb19-dc0e92ed90ad",
   "metadata": {},
   "outputs": [],
   "source": [
    "#Scaling values\n",
    "clim_scaler1 = Scaler(global_fit = global_scale)\n",
    "clim_scaler1.fit(train1_log)\n",
    "\n",
    "#Only scale training sets \n",
    "train1_log_s = clim_scaler1.transform(train1_log)\n",
    "train2_log_s = clim_scaler1.transform(train2_log)\n",
    "train3_log_s = clim_scaler1.transform(train3_log)"
   ]
  },
  {
   "cell_type": "markdown",
   "id": "ce3ee226-9d48-451f-a505-a25236e707e5",
   "metadata": {},
   "source": [
    "## 3. Model Tuning"
   ]
  },
  {
   "cell_type": "code",
   "execution_count": 13,
   "id": "6dffff32-3d95-4230-9498-d3e84a52a567",
   "metadata": {},
   "outputs": [],
   "source": [
    "def write_study(curr_study, add_path):\n",
    "    curr_write_dir = os.path.join(tuning_dir, add_path)\n",
    "    os.makedirs(curr_write_dir, exist_ok = True)\n",
    "    curr_trial_df = curr_study.trials_dataframe()\n",
    "    curr_best_params = curr_study.best_params\n",
    "\n",
    "    dict_as_json(curr_best_params, os.path.join(curr_write_dir, \"best_params.json\"))\n",
    "    curr_trial_df.to_csv(os.path.join(curr_write_dir, \"trial_df.csv\"), index = False)\n",
    "    save_pickle(curr_study, os.path.join(curr_write_dir, \"study_obj.pkl\"))"
   ]
  },
  {
   "cell_type": "code",
   "execution_count": 14,
   "id": "9b62532c-800d-4054-bdd3-9e23914587ec",
   "metadata": {},
   "outputs": [],
   "source": [
    "gap_length = 15\n",
    "#We use 53 as the base forecast length because some years have 53 weeks\n",
    "if approach == \"forecast_gap\": #\"Forecast the gap\" approach\n",
    "    output_chunk_length = 1 #We assume 1-step ahead for the forecast the gap approach\n",
    "    output_chunk_shift = 0\n",
    "    forecast_length = 53 + gap_length\n",
    "else: #\"One shot forecast\" approach\n",
    "    output_chunk_length = 53 #If we are doing a 1-shot forecast, we set output_chunk_length to 53 since some years have 53 weeks.\n",
    "    output_chunk_shift = gap_length #We set an output_chunk_shift equal to the gap size\n",
    "    forecast_length = output_chunk_length"
   ]
  },
  {
   "cell_type": "code",
   "execution_count": 15,
   "id": "d2ff2ace-17ab-4b10-a06e-d31f7def31b5",
   "metadata": {},
   "outputs": [],
   "source": [
    "def climate_objective(trial, model_mode, retrain_per_fold = retrain_per_fold):\n",
    "    #Tune the lags hyperparameter\n",
    "    lags = trial.suggest_int(\"lags\", 4, 208)\n",
    "    encoders = {\"datetime_attribute\": {\"future\": [\"month\", \"year\"]}, \n",
    "                    \"transformer\": Scaler()}\n",
    "    #Create the model, either a LinearRegression, RandomForest, or XGBoost\n",
    "    if model_mode == \"LinearRegression\":\n",
    "        curr_model1 = LinearRegressionModel(lags = lags, lags_future_covariates = (lags, output_chunk_length), add_encoders = encoders, output_chunk_length = output_chunk_length, output_chunk_shift = output_chunk_shift)\n",
    "        curr_model2 = LinearRegressionModel(lags = lags, lags_future_covariates = (lags, output_chunk_length), add_encoders = encoders, output_chunk_length = output_chunk_length, output_chunk_shift = output_chunk_shift)\n",
    "        curr_model3 = LinearRegressionModel(lags = lags, lags_future_covariates = (lags, output_chunk_length), add_encoders = encoders, output_chunk_length = output_chunk_length, output_chunk_shift = output_chunk_shift)\n",
    "    elif model_mode == \"RandomForest\":\n",
    "        curr_model1 = RandomForestModel(lags = lags, lags_future_covariates = (lags, output_chunk_length), add_encoders = encoders, output_chunk_length = output_chunk_length, output_chunk_shift = output_chunk_shift, random_state = random_seed)\n",
    "        curr_model2 = RandomForestModel(lags = lags, lags_future_covariates = (lags, output_chunk_length), add_encoders = encoders, output_chunk_length = output_chunk_length, output_chunk_shift = output_chunk_shift, random_state = random_seed)\n",
    "        curr_model3 = RandomForestModel(lags = lags, lags_future_covariates = (lags, output_chunk_length), add_encoders = encoders, output_chunk_length = output_chunk_length, output_chunk_shift = output_chunk_shift, random_state = random_seed)\n",
    "    else:\n",
    "        curr_model1 = XGBModel(lags = lags, lags_future_covariates = (lags, output_chunk_length), add_encoders = encoders, output_chunk_length = output_chunk_length, output_chunk_shift = output_chunk_shift, random_state = random_seed)\n",
    "        curr_model2 = XGBModel(lags = lags, lags_future_covariates = (lags, output_chunk_length), add_encoders = encoders, output_chunk_length = output_chunk_length, output_chunk_shift = output_chunk_shift, random_state = random_seed)\n",
    "        curr_model3 = XGBModel(lags = lags, lags_future_covariates = (lags, output_chunk_length), add_encoders = encoders, output_chunk_length = output_chunk_length, output_chunk_shift = output_chunk_shift, random_state = random_seed)\n",
    "    \n",
    "    #Fit the model using the training set\n",
    "    curr_model1.fit(series = train1_log_s)\n",
    "\n",
    "    if retrain_per_fold: #If we retrain per fold, we have to fit curr_model2 and 3, then predict with all three models\n",
    "        curr_model2.fit(series = train2_log_s)\n",
    "        curr_model3.fit(series = train3_log_s)\n",
    "        \n",
    "        preds1_log_s = curr_model1.predict(series = train1_log_s, n = forecast_length)\n",
    "        preds2_log_s = curr_model2.predict(series = train2_log_s, n = forecast_length)\n",
    "        preds3_log_s = curr_model3.predict(series = train3_log_s, n = forecast_length)\n",
    "    else: #If we do not retrain per fold, all predictions done only with curr_model1\n",
    "        preds1_log_s = curr_model1.predict(series = train1_log_s, n = forecast_length)\n",
    "        preds2_log_s = curr_model1.predict(series = train2_log_s, n = forecast_length)\n",
    "        preds3_log_s = curr_model1.predict(series = train3_log_s, n = forecast_length)\n",
    "\n",
    "    #Invert the scaling\n",
    "    preds1_log = clim_scaler1.inverse_transform(preds1_log_s) \n",
    "    preds2_log = clim_scaler1.inverse_transform(preds2_log_s)\n",
    "    preds3_log = clim_scaler1.inverse_transform(preds3_log_s)\n",
    "\n",
    "    #Invert the log transforms\n",
    "    preds1 = invert_pre_process_ts_list(preds1_log)\n",
    "    preds2 = invert_pre_process_ts_list(preds2_log)\n",
    "    preds3 = invert_pre_process_ts_list(preds3_log)\n",
    "    \n",
    "    #Compute the MSE \n",
    "    loss1 = norm_metric_list(val1, preds1, train1, comp_summ_func = np.mean, series_summ_func = np.mean, metric = mae)\n",
    "    loss2 = norm_metric_list(val2, preds2, train1, comp_summ_func = np.mean, series_summ_func = np.mean, metric = mae)\n",
    "    loss3 = norm_metric_list(val3, preds3, train1, comp_summ_func = np.mean, series_summ_func = np.mean, metric = mae)\n",
    "    losses = np.array([loss1, loss2, loss3])\n",
    "    val_loss = np.mean(losses)\n",
    "    return(val_loss)\n",
    "    \n",
    "def print_callback(study, trial):\n",
    "    print(f\"Current Trial: {trial._trial_id}\")\n",
    "    print(f\"Current value: {trial.value}, Current params: {trial.params}\")\n",
    "    print(f\"Best value: {study.best_value}, Best params: {study.best_trial.params}\")"
   ]
  },
  {
   "cell_type": "code",
   "execution_count": 16,
   "id": "7065acdd-335f-445d-81a2-0cb43f51418b",
   "metadata": {
    "scrolled": true
   },
   "outputs": [
    {
     "name": "stderr",
     "output_type": "stream",
     "text": [
      "[I 2025-07-24 22:50:09,275] A new study created in memory with name: no-name-6ae2aeb0-cfd8-41e4-a154-45caeec5503d\n",
      "[I 2025-07-24 22:50:16,906] Trial 0 finished with value: 213977852707.9635 and parameters: {'lags': 124}. Best is trial 0 with value: 213977852707.9635.\n"
     ]
    },
    {
     "name": "stdout",
     "output_type": "stream",
     "text": [
      "Current Trial: 0\n",
      "Current value: 213977852707.9635, Current params: {'lags': 124}\n",
      "Best value: 213977852707.9635, Best params: {'lags': 124}\n"
     ]
    },
    {
     "name": "stderr",
     "output_type": "stream",
     "text": [
      "[I 2025-07-24 22:50:40,234] Trial 1 finished with value: 77322425779.55952 and parameters: {'lags': 188}. Best is trial 1 with value: 77322425779.55952.\n"
     ]
    },
    {
     "name": "stdout",
     "output_type": "stream",
     "text": [
      "Current Trial: 1\n",
      "Current value: 77322425779.55952, Current params: {'lags': 188}\n",
      "Best value: 77322425779.55952, Best params: {'lags': 188}\n"
     ]
    },
    {
     "name": "stderr",
     "output_type": "stream",
     "text": [
      "[I 2025-07-24 22:51:03,335] Trial 2 finished with value: 3.925945131754361e+25 and parameters: {'lags': 186}. Best is trial 1 with value: 77322425779.55952.\n"
     ]
    },
    {
     "name": "stdout",
     "output_type": "stream",
     "text": [
      "Current Trial: 2\n",
      "Current value: 3.925945131754361e+25, Current params: {'lags': 186}\n",
      "Best value: 77322425779.55952, Best params: {'lags': 188}\n"
     ]
    },
    {
     "name": "stderr",
     "output_type": "stream",
     "text": [
      "[I 2025-07-24 22:51:20,711] Trial 3 finished with value: 2.1468957370795922 and parameters: {'lags': 171}. Best is trial 3 with value: 2.1468957370795922.\n"
     ]
    },
    {
     "name": "stdout",
     "output_type": "stream",
     "text": [
      "Current Trial: 3\n",
      "Current value: 2.1468957370795922, Current params: {'lags': 171}\n",
      "Best value: 2.1468957370795922, Best params: {'lags': 171}\n"
     ]
    },
    {
     "name": "stderr",
     "output_type": "stream",
     "text": [
      "[I 2025-07-24 22:51:22,229] Trial 4 finished with value: 0.14961964117546842 and parameters: {'lags': 11}. Best is trial 4 with value: 0.14961964117546842.\n"
     ]
    },
    {
     "name": "stdout",
     "output_type": "stream",
     "text": [
      "Current Trial: 4\n",
      "Current value: 0.14961964117546842, Current params: {'lags': 11}\n",
      "Best value: 0.14961964117546842, Best params: {'lags': 11}\n"
     ]
    },
    {
     "name": "stderr",
     "output_type": "stream",
     "text": [
      "[I 2025-07-24 22:51:34,488] Trial 5 finished with value: 0.546501528639988 and parameters: {'lags': 145}. Best is trial 4 with value: 0.14961964117546842.\n"
     ]
    },
    {
     "name": "stdout",
     "output_type": "stream",
     "text": [
      "Current Trial: 5\n",
      "Current value: 0.546501528639988, Current params: {'lags': 145}\n",
      "Best value: 0.14961964117546842, Best params: {'lags': 11}\n"
     ]
    },
    {
     "name": "stderr",
     "output_type": "stream",
     "text": [
      "[I 2025-07-24 22:51:38,957] Trial 6 finished with value: 0.16646266213231836 and parameters: {'lags': 81}. Best is trial 4 with value: 0.14961964117546842.\n"
     ]
    },
    {
     "name": "stdout",
     "output_type": "stream",
     "text": [
      "Current Trial: 6\n",
      "Current value: 0.16646266213231836, Current params: {'lags': 81}\n",
      "Best value: 0.14961964117546842, Best params: {'lags': 11}\n"
     ]
    },
    {
     "name": "stderr",
     "output_type": "stream",
     "text": [
      "[I 2025-07-24 22:51:46,119] Trial 7 finished with value: 0.47294102324106735 and parameters: {'lags': 110}. Best is trial 4 with value: 0.14961964117546842.\n"
     ]
    },
    {
     "name": "stdout",
     "output_type": "stream",
     "text": [
      "Current Trial: 7\n",
      "Current value: 0.47294102324106735, Current params: {'lags': 110}\n",
      "Best value: 0.14961964117546842, Best params: {'lags': 11}\n"
     ]
    },
    {
     "name": "stderr",
     "output_type": "stream",
     "text": [
      "[I 2025-07-24 22:51:58,118] Trial 8 finished with value: 3.1654519462800423 and parameters: {'lags': 138}. Best is trial 4 with value: 0.14961964117546842.\n"
     ]
    },
    {
     "name": "stdout",
     "output_type": "stream",
     "text": [
      "Current Trial: 8\n",
      "Current value: 3.1654519462800423, Current params: {'lags': 138}\n",
      "Best value: 0.14961964117546842, Best params: {'lags': 11}\n"
     ]
    },
    {
     "name": "stderr",
     "output_type": "stream",
     "text": [
      "[I 2025-07-24 22:52:00,555] Trial 9 finished with value: 0.12257809855490585 and parameters: {'lags': 43}. Best is trial 9 with value: 0.12257809855490585.\n"
     ]
    },
    {
     "name": "stdout",
     "output_type": "stream",
     "text": [
      "Current Trial: 9\n",
      "Current value: 0.12257809855490585, Current params: {'lags': 43}\n",
      "Best value: 0.12257809855490585, Best params: {'lags': 43}\n"
     ]
    },
    {
     "name": "stderr",
     "output_type": "stream",
     "text": [
      "[I 2025-07-24 22:52:03,118] Trial 10 finished with value: 0.12129538393256689 and parameters: {'lags': 44}. Best is trial 10 with value: 0.12129538393256689.\n"
     ]
    },
    {
     "name": "stdout",
     "output_type": "stream",
     "text": [
      "Current Trial: 10\n",
      "Current value: 0.12129538393256689, Current params: {'lags': 44}\n",
      "Best value: 0.12129538393256689, Best params: {'lags': 44}\n"
     ]
    },
    {
     "name": "stderr",
     "output_type": "stream",
     "text": [
      "[I 2025-07-24 22:52:05,662] Trial 11 finished with value: 0.12129538393256689 and parameters: {'lags': 44}. Best is trial 10 with value: 0.12129538393256689.\n"
     ]
    },
    {
     "name": "stdout",
     "output_type": "stream",
     "text": [
      "Current Trial: 11\n",
      "Current value: 0.12129538393256689, Current params: {'lags': 44}\n",
      "Best value: 0.12129538393256689, Best params: {'lags': 44}\n"
     ]
    },
    {
     "name": "stderr",
     "output_type": "stream",
     "text": [
      "[I 2025-07-24 22:52:09,079] Trial 12 finished with value: 0.13549160126996385 and parameters: {'lags': 59}. Best is trial 10 with value: 0.12129538393256689.\n"
     ]
    },
    {
     "name": "stdout",
     "output_type": "stream",
     "text": [
      "Current Trial: 12\n",
      "Current value: 0.13549160126996385, Current params: {'lags': 59}\n",
      "Best value: 0.12129538393256689, Best params: {'lags': 44}\n"
     ]
    },
    {
     "name": "stderr",
     "output_type": "stream",
     "text": [
      "[I 2025-07-24 22:52:10,960] Trial 13 finished with value: 0.13275384441293775 and parameters: {'lags': 24}. Best is trial 10 with value: 0.12129538393256689.\n"
     ]
    },
    {
     "name": "stdout",
     "output_type": "stream",
     "text": [
      "Current Trial: 13\n",
      "Current value: 0.13275384441293775, Current params: {'lags': 24}\n",
      "Best value: 0.12129538393256689, Best params: {'lags': 44}\n"
     ]
    },
    {
     "name": "stderr",
     "output_type": "stream",
     "text": [
      "[I 2025-07-24 22:52:15,492] Trial 14 finished with value: 0.16646266213231836 and parameters: {'lags': 81}. Best is trial 10 with value: 0.12129538393256689.\n"
     ]
    },
    {
     "name": "stdout",
     "output_type": "stream",
     "text": [
      "Current Trial: 14\n",
      "Current value: 0.16646266213231836, Current params: {'lags': 81}\n",
      "Best value: 0.12129538393256689, Best params: {'lags': 44}\n"
     ]
    },
    {
     "name": "stderr",
     "output_type": "stream",
     "text": [
      "[I 2025-07-24 22:52:18,414] Trial 15 finished with value: 0.12727087156525058 and parameters: {'lags': 50}. Best is trial 10 with value: 0.12129538393256689.\n"
     ]
    },
    {
     "name": "stdout",
     "output_type": "stream",
     "text": [
      "Current Trial: 15\n",
      "Current value: 0.12727087156525058, Current params: {'lags': 50}\n",
      "Best value: 0.12129538393256689, Best params: {'lags': 44}\n"
     ]
    },
    {
     "name": "stderr",
     "output_type": "stream",
     "text": [
      "[I 2025-07-24 22:52:22,825] Trial 16 finished with value: 0.16646266213231836 and parameters: {'lags': 81}. Best is trial 10 with value: 0.12129538393256689.\n"
     ]
    },
    {
     "name": "stdout",
     "output_type": "stream",
     "text": [
      "Current Trial: 16\n",
      "Current value: 0.16646266213231836, Current params: {'lags': 81}\n",
      "Best value: 0.12129538393256689, Best params: {'lags': 44}\n"
     ]
    },
    {
     "name": "stderr",
     "output_type": "stream",
     "text": [
      "[I 2025-07-24 22:52:24,310] Trial 17 finished with value: 0.16441272397749784 and parameters: {'lags': 6}. Best is trial 10 with value: 0.12129538393256689.\n"
     ]
    },
    {
     "name": "stdout",
     "output_type": "stream",
     "text": [
      "Current Trial: 17\n",
      "Current value: 0.16441272397749784, Current params: {'lags': 6}\n",
      "Best value: 0.12129538393256689, Best params: {'lags': 44}\n"
     ]
    },
    {
     "name": "stderr",
     "output_type": "stream",
     "text": [
      "[I 2025-07-24 22:52:26,316] Trial 18 finished with value: 0.1304424435908644 and parameters: {'lags': 30}. Best is trial 10 with value: 0.12129538393256689.\n"
     ]
    },
    {
     "name": "stdout",
     "output_type": "stream",
     "text": [
      "Current Trial: 18\n",
      "Current value: 0.1304424435908644, Current params: {'lags': 30}\n",
      "Best value: 0.12129538393256689, Best params: {'lags': 44}\n"
     ]
    },
    {
     "name": "stderr",
     "output_type": "stream",
     "text": [
      "[I 2025-07-24 22:52:30,111] Trial 19 finished with value: 0.14518234844741787 and parameters: {'lags': 68}. Best is trial 10 with value: 0.12129538393256689.\n"
     ]
    },
    {
     "name": "stdout",
     "output_type": "stream",
     "text": [
      "Current Trial: 19\n",
      "Current value: 0.14518234844741787, Current params: {'lags': 68}\n",
      "Best value: 0.12129538393256689, Best params: {'lags': 44}\n"
     ]
    },
    {
     "name": "stderr",
     "output_type": "stream",
     "text": [
      "[I 2025-07-24 22:52:32,280] Trial 20 finished with value: 0.12649182168013717 and parameters: {'lags': 35}. Best is trial 10 with value: 0.12129538393256689.\n"
     ]
    },
    {
     "name": "stdout",
     "output_type": "stream",
     "text": [
      "Current Trial: 20\n",
      "Current value: 0.12649182168013717, Current params: {'lags': 35}\n",
      "Best value: 0.12129538393256689, Best params: {'lags': 44}\n"
     ]
    },
    {
     "name": "stderr",
     "output_type": "stream",
     "text": [
      "[I 2025-07-24 22:52:35,190] Trial 21 finished with value: 0.12790786265054646 and parameters: {'lags': 52}. Best is trial 10 with value: 0.12129538393256689.\n"
     ]
    },
    {
     "name": "stdout",
     "output_type": "stream",
     "text": [
      "Current Trial: 21\n",
      "Current value: 0.12790786265054646, Current params: {'lags': 52}\n",
      "Best value: 0.12129538393256689, Best params: {'lags': 44}\n"
     ]
    },
    {
     "name": "stderr",
     "output_type": "stream",
     "text": [
      "[I 2025-07-24 22:52:37,578] Trial 22 finished with value: 0.12432896578505241 and parameters: {'lags': 40}. Best is trial 10 with value: 0.12129538393256689.\n"
     ]
    },
    {
     "name": "stdout",
     "output_type": "stream",
     "text": [
      "Current Trial: 22\n",
      "Current value: 0.12432896578505241, Current params: {'lags': 40}\n",
      "Best value: 0.12129538393256689, Best params: {'lags': 44}\n"
     ]
    },
    {
     "name": "stderr",
     "output_type": "stream",
     "text": [
      "[I 2025-07-24 22:52:42,952] Trial 23 finished with value: 0.36460926556050727 and parameters: {'lags': 95}. Best is trial 10 with value: 0.12129538393256689.\n"
     ]
    },
    {
     "name": "stdout",
     "output_type": "stream",
     "text": [
      "Current Trial: 23\n",
      "Current value: 0.36460926556050727, Current params: {'lags': 95}\n",
      "Best value: 0.12129538393256689, Best params: {'lags': 44}\n"
     ]
    },
    {
     "name": "stderr",
     "output_type": "stream",
     "text": [
      "[I 2025-07-24 22:52:44,733] Trial 24 finished with value: 0.13609509987487398 and parameters: {'lags': 19}. Best is trial 10 with value: 0.12129538393256689.\n"
     ]
    },
    {
     "name": "stdout",
     "output_type": "stream",
     "text": [
      "Current Trial: 24\n",
      "Current value: 0.13609509987487398, Current params: {'lags': 19}\n",
      "Best value: 0.12129538393256689, Best params: {'lags': 44}\n"
     ]
    },
    {
     "name": "stderr",
     "output_type": "stream",
     "text": [
      "[I 2025-07-24 22:52:48,535] Trial 25 finished with value: 0.15033002754818636 and parameters: {'lags': 71}. Best is trial 10 with value: 0.12129538393256689.\n"
     ]
    },
    {
     "name": "stdout",
     "output_type": "stream",
     "text": [
      "Current Trial: 25\n",
      "Current value: 0.15033002754818636, Current params: {'lags': 71}\n",
      "Best value: 0.12129538393256689, Best params: {'lags': 44}\n"
     ]
    },
    {
     "name": "stderr",
     "output_type": "stream",
     "text": [
      "[I 2025-07-24 22:52:51,166] Trial 26 finished with value: 0.12129538393256689 and parameters: {'lags': 44}. Best is trial 10 with value: 0.12129538393256689.\n"
     ]
    },
    {
     "name": "stdout",
     "output_type": "stream",
     "text": [
      "Current Trial: 26\n",
      "Current value: 0.12129538393256689, Current params: {'lags': 44}\n",
      "Best value: 0.12129538393256689, Best params: {'lags': 44}\n"
     ]
    },
    {
     "name": "stderr",
     "output_type": "stream",
     "text": [
      "[I 2025-07-24 22:52:57,396] Trial 27 finished with value: 0.37475988901437374 and parameters: {'lags': 99}. Best is trial 10 with value: 0.12129538393256689.\n"
     ]
    },
    {
     "name": "stdout",
     "output_type": "stream",
     "text": [
      "Current Trial: 27\n",
      "Current value: 0.37475988901437374, Current params: {'lags': 99}\n",
      "Best value: 0.12129538393256689, Best params: {'lags': 44}\n"
     ]
    },
    {
     "name": "stderr",
     "output_type": "stream",
     "text": [
      "[I 2025-07-24 22:53:00,712] Trial 28 finished with value: 0.1360801893113163 and parameters: {'lags': 60}. Best is trial 10 with value: 0.12129538393256689.\n"
     ]
    },
    {
     "name": "stdout",
     "output_type": "stream",
     "text": [
      "Current Trial: 28\n",
      "Current value: 0.1360801893113163, Current params: {'lags': 60}\n",
      "Best value: 0.12129538393256689, Best params: {'lags': 44}\n"
     ]
    },
    {
     "name": "stderr",
     "output_type": "stream",
     "text": [
      "[I 2025-07-24 22:53:08,679] Trial 29 finished with value: 106756.2972564479 and parameters: {'lags': 117}. Best is trial 10 with value: 0.12129538393256689.\n"
     ]
    },
    {
     "name": "stdout",
     "output_type": "stream",
     "text": [
      "Current Trial: 29\n",
      "Current value: 106756.2972564479, Current params: {'lags': 117}\n",
      "Best value: 0.12129538393256689, Best params: {'lags': 44}\n"
     ]
    },
    {
     "name": "stderr",
     "output_type": "stream",
     "text": [
      "[I 2025-07-24 22:53:38,463] Trial 30 finished with value: 1.3508623943801095 and parameters: {'lags': 207}. Best is trial 10 with value: 0.12129538393256689.\n"
     ]
    },
    {
     "name": "stdout",
     "output_type": "stream",
     "text": [
      "Current Trial: 30\n",
      "Current value: 1.3508623943801095, Current params: {'lags': 207}\n",
      "Best value: 0.12129538393256689, Best params: {'lags': 44}\n"
     ]
    },
    {
     "name": "stderr",
     "output_type": "stream",
     "text": [
      "[I 2025-07-24 22:53:40,765] Trial 31 finished with value: 0.12637334247973694 and parameters: {'lags': 37}. Best is trial 10 with value: 0.12129538393256689.\n"
     ]
    },
    {
     "name": "stdout",
     "output_type": "stream",
     "text": [
      "Current Trial: 31\n",
      "Current value: 0.12637334247973694, Current params: {'lags': 37}\n",
      "Best value: 0.12129538393256689, Best params: {'lags': 44}\n"
     ]
    },
    {
     "name": "stderr",
     "output_type": "stream",
     "text": [
      "[I 2025-07-24 22:53:43,323] Trial 32 finished with value: 0.12133092882740908 and parameters: {'lags': 46}. Best is trial 10 with value: 0.12129538393256689.\n"
     ]
    },
    {
     "name": "stdout",
     "output_type": "stream",
     "text": [
      "Current Trial: 32\n",
      "Current value: 0.12133092882740908, Current params: {'lags': 46}\n",
      "Best value: 0.12129538393256689, Best params: {'lags': 44}\n"
     ]
    },
    {
     "name": "stderr",
     "output_type": "stream",
     "text": [
      "[I 2025-07-24 22:53:45,142] Trial 33 finished with value: 0.1331729256852381 and parameters: {'lags': 23}. Best is trial 10 with value: 0.12129538393256689.\n"
     ]
    },
    {
     "name": "stdout",
     "output_type": "stream",
     "text": [
      "Current Trial: 33\n",
      "Current value: 0.1331729256852381, Current params: {'lags': 23}\n",
      "Best value: 0.12129538393256689, Best params: {'lags': 44}\n"
     ]
    },
    {
     "name": "stderr",
     "output_type": "stream",
     "text": [
      "[I 2025-07-24 22:53:47,913] Trial 34 finished with value: 0.12727087156525058 and parameters: {'lags': 50}. Best is trial 10 with value: 0.12129538393256689.\n"
     ]
    },
    {
     "name": "stdout",
     "output_type": "stream",
     "text": [
      "Current Trial: 34\n",
      "Current value: 0.12727087156525058, Current params: {'lags': 50}\n",
      "Best value: 0.12129538393256689, Best params: {'lags': 44}\n"
     ]
    },
    {
     "name": "stderr",
     "output_type": "stream",
     "text": [
      "[I 2025-07-24 22:53:51,562] Trial 35 finished with value: 0.14694809951056895 and parameters: {'lags': 70}. Best is trial 10 with value: 0.12129538393256689.\n"
     ]
    },
    {
     "name": "stdout",
     "output_type": "stream",
     "text": [
      "Current Trial: 35\n",
      "Current value: 0.14694809951056895, Current params: {'lags': 70}\n",
      "Best value: 0.12129538393256689, Best params: {'lags': 44}\n"
     ]
    },
    {
     "name": "stderr",
     "output_type": "stream",
     "text": [
      "[I 2025-07-24 22:53:53,249] Trial 36 finished with value: 0.1419953323659564 and parameters: {'lags': 15}. Best is trial 10 with value: 0.12129538393256689.\n"
     ]
    },
    {
     "name": "stdout",
     "output_type": "stream",
     "text": [
      "Current Trial: 36\n",
      "Current value: 0.1419953323659564, Current params: {'lags': 15}\n",
      "Best value: 0.12129538393256689, Best params: {'lags': 44}\n"
     ]
    },
    {
     "name": "stderr",
     "output_type": "stream",
     "text": [
      "[I 2025-07-24 22:53:54,870] Trial 37 finished with value: 0.16748809627884884 and parameters: {'lags': 5}. Best is trial 10 with value: 0.12129538393256689.\n"
     ]
    },
    {
     "name": "stdout",
     "output_type": "stream",
     "text": [
      "Current Trial: 37\n",
      "Current value: 0.16748809627884884, Current params: {'lags': 5}\n",
      "Best value: 0.12129538393256689, Best params: {'lags': 44}\n"
     ]
    },
    {
     "name": "stderr",
     "output_type": "stream",
     "text": [
      "[I 2025-07-24 22:53:58,194] Trial 38 finished with value: 0.1376281535539274 and parameters: {'lags': 61}. Best is trial 10 with value: 0.12129538393256689.\n"
     ]
    },
    {
     "name": "stdout",
     "output_type": "stream",
     "text": [
      "Current Trial: 38\n",
      "Current value: 0.1376281535539274, Current params: {'lags': 61}\n",
      "Best value: 0.12129538393256689, Best params: {'lags': 44}\n"
     ]
    },
    {
     "name": "stderr",
     "output_type": "stream",
     "text": [
      "[I 2025-07-24 22:54:03,020] Trial 39 finished with value: 2083749626401.0225 and parameters: {'lags': 89}. Best is trial 10 with value: 0.12129538393256689.\n"
     ]
    },
    {
     "name": "stdout",
     "output_type": "stream",
     "text": [
      "Current Trial: 39\n",
      "Current value: 2083749626401.0225, Current params: {'lags': 89}\n",
      "Best value: 0.12129538393256689, Best params: {'lags': 44}\n"
     ]
    },
    {
     "name": "stderr",
     "output_type": "stream",
     "text": [
      "[I 2025-07-24 22:54:22,332] Trial 40 finished with value: 2.1468957370795922 and parameters: {'lags': 171}. Best is trial 10 with value: 0.12129538393256689.\n"
     ]
    },
    {
     "name": "stdout",
     "output_type": "stream",
     "text": [
      "Current Trial: 40\n",
      "Current value: 2.1468957370795922, Current params: {'lags': 171}\n",
      "Best value: 0.12129538393256689, Best params: {'lags': 44}\n"
     ]
    },
    {
     "name": "stderr",
     "output_type": "stream",
     "text": [
      "[I 2025-07-24 22:54:24,655] Trial 41 finished with value: 0.12257809855490585 and parameters: {'lags': 43}. Best is trial 10 with value: 0.12129538393256689.\n"
     ]
    },
    {
     "name": "stdout",
     "output_type": "stream",
     "text": [
      "Current Trial: 41\n",
      "Current value: 0.12257809855490585, Current params: {'lags': 43}\n",
      "Best value: 0.12129538393256689, Best params: {'lags': 44}\n"
     ]
    },
    {
     "name": "stderr",
     "output_type": "stream",
     "text": [
      "[I 2025-07-24 22:54:26,558] Trial 42 finished with value: 0.1318343946784529 and parameters: {'lags': 28}. Best is trial 10 with value: 0.12129538393256689.\n"
     ]
    },
    {
     "name": "stdout",
     "output_type": "stream",
     "text": [
      "Current Trial: 42\n",
      "Current value: 0.1318343946784529, Current params: {'lags': 28}\n",
      "Best value: 0.12129538393256689, Best params: {'lags': 44}\n"
     ]
    },
    {
     "name": "stderr",
     "output_type": "stream",
     "text": [
      "[I 2025-07-24 22:54:29,105] Trial 43 finished with value: 0.12133092882740908 and parameters: {'lags': 46}. Best is trial 10 with value: 0.12129538393256689.\n"
     ]
    },
    {
     "name": "stdout",
     "output_type": "stream",
     "text": [
      "Current Trial: 43\n",
      "Current value: 0.12133092882740908, Current params: {'lags': 46}\n",
      "Best value: 0.12129538393256689, Best params: {'lags': 44}\n"
     ]
    },
    {
     "name": "stderr",
     "output_type": "stream",
     "text": [
      "[I 2025-07-24 22:54:31,811] Trial 44 finished with value: 0.12380077227552443 and parameters: {'lags': 49}. Best is trial 10 with value: 0.12129538393256689.\n"
     ]
    },
    {
     "name": "stdout",
     "output_type": "stream",
     "text": [
      "Current Trial: 44\n",
      "Current value: 0.12380077227552443, Current params: {'lags': 49}\n",
      "Best value: 0.12129538393256689, Best params: {'lags': 44}\n"
     ]
    },
    {
     "name": "stderr",
     "output_type": "stream",
     "text": [
      "[I 2025-07-24 22:54:44,204] Trial 45 finished with value: 0.9624930926141203 and parameters: {'lags': 144}. Best is trial 10 with value: 0.12129538393256689.\n"
     ]
    },
    {
     "name": "stdout",
     "output_type": "stream",
     "text": [
      "Current Trial: 45\n",
      "Current value: 0.9624930926141203, Current params: {'lags': 144}\n",
      "Best value: 0.12129538393256689, Best params: {'lags': 44}\n"
     ]
    },
    {
     "name": "stderr",
     "output_type": "stream",
     "text": [
      "[I 2025-07-24 22:54:47,260] Trial 46 finished with value: 0.1341975814889854 and parameters: {'lags': 57}. Best is trial 10 with value: 0.12129538393256689.\n"
     ]
    },
    {
     "name": "stdout",
     "output_type": "stream",
     "text": [
      "Current Trial: 46\n",
      "Current value: 0.1341975814889854, Current params: {'lags': 57}\n",
      "Best value: 0.12129538393256689, Best params: {'lags': 44}\n"
     ]
    },
    {
     "name": "stderr",
     "output_type": "stream",
     "text": [
      "[I 2025-07-24 22:54:51,315] Trial 47 finished with value: 0.16730493185791842 and parameters: {'lags': 77}. Best is trial 10 with value: 0.12129538393256689.\n"
     ]
    },
    {
     "name": "stdout",
     "output_type": "stream",
     "text": [
      "Current Trial: 47\n",
      "Current value: 0.16730493185791842, Current params: {'lags': 77}\n",
      "Best value: 0.12129538393256689, Best params: {'lags': 44}\n"
     ]
    },
    {
     "name": "stderr",
     "output_type": "stream",
     "text": [
      "[I 2025-07-24 22:54:52,943] Trial 48 finished with value: 0.1419953323659564 and parameters: {'lags': 15}. Best is trial 10 with value: 0.12129538393256689.\n"
     ]
    },
    {
     "name": "stdout",
     "output_type": "stream",
     "text": [
      "Current Trial: 48\n",
      "Current value: 0.1419953323659564, Current params: {'lags': 15}\n",
      "Best value: 0.12129538393256689, Best params: {'lags': 44}\n"
     ]
    },
    {
     "name": "stderr",
     "output_type": "stream",
     "text": [
      "[I 2025-07-24 22:54:55,113] Trial 49 finished with value: 0.12925995586555056 and parameters: {'lags': 32}. Best is trial 10 with value: 0.12129538393256689.\n"
     ]
    },
    {
     "name": "stdout",
     "output_type": "stream",
     "text": [
      "Current Trial: 49\n",
      "Current value: 0.12925995586555056, Current params: {'lags': 32}\n",
      "Best value: 0.12129538393256689, Best params: {'lags': 44}\n"
     ]
    },
    {
     "name": "stderr",
     "output_type": "stream",
     "text": [
      "[I 2025-07-24 22:54:58,562] Trial 50 finished with value: 0.13996498966798596 and parameters: {'lags': 65}. Best is trial 10 with value: 0.12129538393256689.\n"
     ]
    },
    {
     "name": "stdout",
     "output_type": "stream",
     "text": [
      "Current Trial: 50\n",
      "Current value: 0.13996498966798596, Current params: {'lags': 65}\n",
      "Best value: 0.12129538393256689, Best params: {'lags': 44}\n"
     ]
    },
    {
     "name": "stderr",
     "output_type": "stream",
     "text": [
      "[I 2025-07-24 22:55:00,922] Trial 51 finished with value: 0.12259371928413425 and parameters: {'lags': 42}. Best is trial 10 with value: 0.12129538393256689.\n"
     ]
    },
    {
     "name": "stdout",
     "output_type": "stream",
     "text": [
      "Current Trial: 51\n",
      "Current value: 0.12259371928413425, Current params: {'lags': 42}\n",
      "Best value: 0.12129538393256689, Best params: {'lags': 44}\n"
     ]
    },
    {
     "name": "stderr",
     "output_type": "stream",
     "text": [
      "[I 2025-07-24 22:55:03,686] Trial 52 finished with value: 0.12460431299194914 and parameters: {'lags': 48}. Best is trial 10 with value: 0.12129538393256689.\n"
     ]
    },
    {
     "name": "stdout",
     "output_type": "stream",
     "text": [
      "Current Trial: 52\n",
      "Current value: 0.12460431299194914, Current params: {'lags': 48}\n",
      "Best value: 0.12129538393256689, Best params: {'lags': 44}\n"
     ]
    },
    {
     "name": "stderr",
     "output_type": "stream",
     "text": [
      "[I 2025-07-24 22:55:05,666] Trial 53 finished with value: 0.1321547230933889 and parameters: {'lags': 26}. Best is trial 10 with value: 0.12129538393256689.\n"
     ]
    },
    {
     "name": "stdout",
     "output_type": "stream",
     "text": [
      "Current Trial: 53\n",
      "Current value: 0.1321547230933889, Current params: {'lags': 26}\n",
      "Best value: 0.12129538393256689, Best params: {'lags': 44}\n"
     ]
    },
    {
     "name": "stderr",
     "output_type": "stream",
     "text": [
      "[I 2025-07-24 22:55:08,021] Trial 54 finished with value: 0.12546810374895553 and parameters: {'lags': 38}. Best is trial 10 with value: 0.12129538393256689.\n"
     ]
    },
    {
     "name": "stdout",
     "output_type": "stream",
     "text": [
      "Current Trial: 54\n",
      "Current value: 0.12546810374895553, Current params: {'lags': 38}\n",
      "Best value: 0.12129538393256689, Best params: {'lags': 44}\n"
     ]
    },
    {
     "name": "stderr",
     "output_type": "stream",
     "text": [
      "[I 2025-07-24 22:55:10,975] Trial 55 finished with value: 0.12777220630870206 and parameters: {'lags': 54}. Best is trial 10 with value: 0.12129538393256689.\n"
     ]
    },
    {
     "name": "stdout",
     "output_type": "stream",
     "text": [
      "Current Trial: 55\n",
      "Current value: 0.12777220630870206, Current params: {'lags': 54}\n",
      "Best value: 0.12129538393256689, Best params: {'lags': 44}\n"
     ]
    },
    {
     "name": "stderr",
     "output_type": "stream",
     "text": [
      "[I 2025-07-24 22:55:13,770] Trial 56 finished with value: 0.12129538393256689 and parameters: {'lags': 44}. Best is trial 10 with value: 0.12129538393256689.\n"
     ]
    },
    {
     "name": "stdout",
     "output_type": "stream",
     "text": [
      "Current Trial: 56\n",
      "Current value: 0.12129538393256689, Current params: {'lags': 44}\n",
      "Best value: 0.12129538393256689, Best params: {'lags': 44}\n"
     ]
    },
    {
     "name": "stderr",
     "output_type": "stream",
     "text": [
      "[I 2025-07-24 22:55:17,648] Trial 57 finished with value: 0.15104167456017617 and parameters: {'lags': 72}. Best is trial 10 with value: 0.12129538393256689.\n"
     ]
    },
    {
     "name": "stdout",
     "output_type": "stream",
     "text": [
      "Current Trial: 57\n",
      "Current value: 0.15104167456017617, Current params: {'lags': 72}\n",
      "Best value: 0.12129538393256689, Best params: {'lags': 44}\n"
     ]
    },
    {
     "name": "stderr",
     "output_type": "stream",
     "text": [
      "[I 2025-07-24 22:55:22,587] Trial 58 finished with value: 2083749626401.0225 and parameters: {'lags': 89}. Best is trial 10 with value: 0.12129538393256689.\n"
     ]
    },
    {
     "name": "stdout",
     "output_type": "stream",
     "text": [
      "Current Trial: 58\n",
      "Current value: 2083749626401.0225, Current params: {'lags': 89}\n",
      "Best value: 0.12129538393256689, Best params: {'lags': 44}\n"
     ]
    },
    {
     "name": "stderr",
     "output_type": "stream",
     "text": [
      "[I 2025-07-24 22:55:24,753] Trial 59 finished with value: 0.12925995586555056 and parameters: {'lags': 32}. Best is trial 10 with value: 0.12129538393256689.\n"
     ]
    },
    {
     "name": "stdout",
     "output_type": "stream",
     "text": [
      "Current Trial: 59\n",
      "Current value: 0.12925995586555056, Current params: {'lags': 32}\n",
      "Best value: 0.12129538393256689, Best params: {'lags': 44}\n"
     ]
    },
    {
     "name": "stderr",
     "output_type": "stream",
     "text": [
      "[I 2025-07-24 22:55:27,421] Trial 60 finished with value: 0.12129538393256689 and parameters: {'lags': 44}. Best is trial 10 with value: 0.12129538393256689.\n"
     ]
    },
    {
     "name": "stdout",
     "output_type": "stream",
     "text": [
      "Current Trial: 60\n",
      "Current value: 0.12129538393256689, Current params: {'lags': 44}\n",
      "Best value: 0.12129538393256689, Best params: {'lags': 44}\n"
     ]
    },
    {
     "name": "stderr",
     "output_type": "stream",
     "text": [
      "[I 2025-07-24 22:55:30,095] Trial 61 finished with value: 0.12265606821145159 and parameters: {'lags': 45}. Best is trial 10 with value: 0.12129538393256689.\n"
     ]
    },
    {
     "name": "stdout",
     "output_type": "stream",
     "text": [
      "Current Trial: 61\n",
      "Current value: 0.12265606821145159, Current params: {'lags': 45}\n",
      "Best value: 0.12129538393256689, Best params: {'lags': 44}\n"
     ]
    },
    {
     "name": "stderr",
     "output_type": "stream",
     "text": [
      "[I 2025-07-24 22:55:33,384] Trial 62 finished with value: 0.12777220630870206 and parameters: {'lags': 54}. Best is trial 10 with value: 0.12129538393256689.\n"
     ]
    },
    {
     "name": "stdout",
     "output_type": "stream",
     "text": [
      "Current Trial: 62\n",
      "Current value: 0.12777220630870206, Current params: {'lags': 54}\n",
      "Best value: 0.12129538393256689, Best params: {'lags': 44}\n"
     ]
    },
    {
     "name": "stderr",
     "output_type": "stream",
     "text": [
      "[I 2025-07-24 22:55:35,243] Trial 63 finished with value: 0.13405620443958524 and parameters: {'lags': 21}. Best is trial 10 with value: 0.12129538393256689.\n"
     ]
    },
    {
     "name": "stdout",
     "output_type": "stream",
     "text": [
      "Current Trial: 63\n",
      "Current value: 0.13405620443958524, Current params: {'lags': 21}\n",
      "Best value: 0.12129538393256689, Best params: {'lags': 44}\n"
     ]
    }
   ],
   "source": [
    "sampler1 = TPESampler(seed = random_seed)\n",
    "study1 = optuna.create_study(direction = \"minimize\", sampler = sampler1)\n",
    "\n",
    "study1.optimize(lambda trial: climate_objective(trial, \"LinearRegression\", retrain_per_fold = retrain_per_fold), callbacks = [print_callback], n_trials = 64)"
   ]
  },
  {
   "cell_type": "code",
   "execution_count": 17,
   "id": "4d21f323-2ad6-4809-833b-1d7432960947",
   "metadata": {},
   "outputs": [],
   "source": [
    "write_study(study1, \"LinearRegression\")"
   ]
  },
  {
   "cell_type": "code",
   "execution_count": 18,
   "id": "33eea6b2-d019-47c2-9ad2-881f8eb45a00",
   "metadata": {
    "scrolled": true
   },
   "outputs": [
    {
     "name": "stderr",
     "output_type": "stream",
     "text": [
      "[I 2025-07-24 22:55:35,274] A new study created in memory with name: no-name-4c63a34a-ce75-4e59-9ff0-9ad191af9865\n",
      "[I 2025-07-24 23:33:14,018] Trial 0 finished with value: 0.11530250811253401 and parameters: {'lags': 124}. Best is trial 0 with value: 0.11530250811253401.\n"
     ]
    },
    {
     "name": "stdout",
     "output_type": "stream",
     "text": [
      "Current Trial: 0\n",
      "Current value: 0.11530250811253401, Current params: {'lags': 124}\n",
      "Best value: 0.11530250811253401, Best params: {'lags': 124}\n"
     ]
    },
    {
     "name": "stderr",
     "output_type": "stream",
     "text": [
      "[I 2025-07-25 00:12:05,100] Trial 1 finished with value: 0.11218770671079559 and parameters: {'lags': 188}. Best is trial 1 with value: 0.11218770671079559.\n"
     ]
    },
    {
     "name": "stdout",
     "output_type": "stream",
     "text": [
      "Current Trial: 1\n",
      "Current value: 0.11218770671079559, Current params: {'lags': 188}\n",
      "Best value: 0.11218770671079559, Best params: {'lags': 188}\n"
     ]
    },
    {
     "name": "stderr",
     "output_type": "stream",
     "text": [
      "[I 2025-07-25 00:50:38,078] Trial 2 finished with value: 0.11184102692473523 and parameters: {'lags': 186}. Best is trial 2 with value: 0.11184102692473523.\n"
     ]
    },
    {
     "name": "stdout",
     "output_type": "stream",
     "text": [
      "Current Trial: 2\n",
      "Current value: 0.11184102692473523, Current params: {'lags': 186}\n",
      "Best value: 0.11184102692473523, Best params: {'lags': 186}\n"
     ]
    },
    {
     "name": "stderr",
     "output_type": "stream",
     "text": [
      "[I 2025-07-25 01:29:37,846] Trial 3 finished with value: 0.11190231506686843 and parameters: {'lags': 171}. Best is trial 2 with value: 0.11184102692473523.\n"
     ]
    },
    {
     "name": "stdout",
     "output_type": "stream",
     "text": [
      "Current Trial: 3\n",
      "Current value: 0.11190231506686843, Current params: {'lags': 171}\n",
      "Best value: 0.11184102692473523, Best params: {'lags': 186}\n"
     ]
    },
    {
     "name": "stderr",
     "output_type": "stream",
     "text": [
      "[I 2025-07-25 01:35:23,549] Trial 4 finished with value: 0.19632610694858255 and parameters: {'lags': 11}. Best is trial 2 with value: 0.11184102692473523.\n"
     ]
    },
    {
     "name": "stdout",
     "output_type": "stream",
     "text": [
      "Current Trial: 4\n",
      "Current value: 0.19632610694858255, Current params: {'lags': 11}\n",
      "Best value: 0.11184102692473523, Best params: {'lags': 186}\n"
     ]
    },
    {
     "name": "stderr",
     "output_type": "stream",
     "text": [
      "[I 2025-07-25 02:14:48,157] Trial 5 finished with value: 0.11586087449269271 and parameters: {'lags': 145}. Best is trial 2 with value: 0.11184102692473523.\n"
     ]
    },
    {
     "name": "stdout",
     "output_type": "stream",
     "text": [
      "Current Trial: 5\n",
      "Current value: 0.11586087449269271, Current params: {'lags': 145}\n",
      "Best value: 0.11184102692473523, Best params: {'lags': 186}\n"
     ]
    },
    {
     "name": "stderr",
     "output_type": "stream",
     "text": [
      "[I 2025-07-25 02:45:31,697] Trial 6 finished with value: 0.11490819316150948 and parameters: {'lags': 81}. Best is trial 2 with value: 0.11184102692473523.\n"
     ]
    },
    {
     "name": "stdout",
     "output_type": "stream",
     "text": [
      "Current Trial: 6\n",
      "Current value: 0.11490819316150948, Current params: {'lags': 81}\n",
      "Best value: 0.11184102692473523, Best params: {'lags': 186}\n"
     ]
    },
    {
     "name": "stderr",
     "output_type": "stream",
     "text": [
      "[I 2025-07-25 03:21:08,978] Trial 7 finished with value: 0.11511211204272631 and parameters: {'lags': 110}. Best is trial 2 with value: 0.11184102692473523.\n"
     ]
    },
    {
     "name": "stdout",
     "output_type": "stream",
     "text": [
      "Current Trial: 7\n",
      "Current value: 0.11511211204272631, Current params: {'lags': 110}\n",
      "Best value: 0.11184102692473523, Best params: {'lags': 186}\n"
     ]
    },
    {
     "name": "stderr",
     "output_type": "stream",
     "text": [
      "[I 2025-07-25 03:59:06,120] Trial 8 finished with value: 0.11563402809031703 and parameters: {'lags': 138}. Best is trial 2 with value: 0.11184102692473523.\n"
     ]
    },
    {
     "name": "stdout",
     "output_type": "stream",
     "text": [
      "Current Trial: 8\n",
      "Current value: 0.11563402809031703, Current params: {'lags': 138}\n",
      "Best value: 0.11184102692473523, Best params: {'lags': 186}\n"
     ]
    },
    {
     "name": "stderr",
     "output_type": "stream",
     "text": [
      "[I 2025-07-25 04:17:26,833] Trial 9 finished with value: 0.13428924671033646 and parameters: {'lags': 43}. Best is trial 2 with value: 0.11184102692473523.\n"
     ]
    },
    {
     "name": "stdout",
     "output_type": "stream",
     "text": [
      "Current Trial: 9\n",
      "Current value: 0.13428924671033646, Current params: {'lags': 43}\n",
      "Best value: 0.11184102692473523, Best params: {'lags': 186}\n"
     ]
    },
    {
     "name": "stderr",
     "output_type": "stream",
     "text": [
      "[I 2025-07-25 04:51:53,248] Trial 10 finished with value: 0.11266855662325094 and parameters: {'lags': 181}. Best is trial 2 with value: 0.11184102692473523.\n"
     ]
    },
    {
     "name": "stdout",
     "output_type": "stream",
     "text": [
      "Current Trial: 10\n",
      "Current value: 0.11266855662325094, Current params: {'lags': 181}\n",
      "Best value: 0.11184102692473523, Best params: {'lags': 186}\n"
     ]
    },
    {
     "name": "stderr",
     "output_type": "stream",
     "text": [
      "[I 2025-07-25 05:23:24,343] Trial 11 finished with value: 0.11181922116415806 and parameters: {'lags': 197}. Best is trial 11 with value: 0.11181922116415806.\n"
     ]
    },
    {
     "name": "stdout",
     "output_type": "stream",
     "text": [
      "Current Trial: 11\n",
      "Current value: 0.11181922116415806, Current params: {'lags': 197}\n",
      "Best value: 0.11181922116415806, Best params: {'lags': 197}\n"
     ]
    },
    {
     "name": "stderr",
     "output_type": "stream",
     "text": [
      "[I 2025-07-25 05:52:00,150] Trial 12 finished with value: 0.11251264380459407 and parameters: {'lags': 208}. Best is trial 11 with value: 0.11181922116415806.\n"
     ]
    },
    {
     "name": "stdout",
     "output_type": "stream",
     "text": [
      "Current Trial: 12\n",
      "Current value: 0.11251264380459407, Current params: {'lags': 208}\n",
      "Best value: 0.11181922116415806, Best params: {'lags': 197}\n"
     ]
    },
    {
     "name": "stderr",
     "output_type": "stream",
     "text": [
      "[I 2025-07-25 06:20:11,989] Trial 13 finished with value: 0.11275943626799696 and parameters: {'lags': 207}. Best is trial 11 with value: 0.11181922116415806.\n"
     ]
    },
    {
     "name": "stdout",
     "output_type": "stream",
     "text": [
      "Current Trial: 13\n",
      "Current value: 0.11275943626799696, Current params: {'lags': 207}\n",
      "Best value: 0.11181922116415806, Best params: {'lags': 197}\n"
     ]
    },
    {
     "name": "stderr",
     "output_type": "stream",
     "text": [
      "[I 2025-07-25 06:51:32,518] Trial 14 finished with value: 0.11329049024439952 and parameters: {'lags': 165}. Best is trial 11 with value: 0.11181922116415806.\n"
     ]
    },
    {
     "name": "stdout",
     "output_type": "stream",
     "text": [
      "Current Trial: 14\n",
      "Current value: 0.11329049024439952, Current params: {'lags': 165}\n",
      "Best value: 0.11181922116415806, Best params: {'lags': 197}\n"
     ]
    },
    {
     "name": "stderr",
     "output_type": "stream",
     "text": [
      "[I 2025-07-25 07:19:12,413] Trial 15 finished with value: 0.11397679819422761 and parameters: {'lags': 89}. Best is trial 11 with value: 0.11181922116415806.\n"
     ]
    },
    {
     "name": "stdout",
     "output_type": "stream",
     "text": [
      "Current Trial: 15\n",
      "Current value: 0.11397679819422761, Current params: {'lags': 89}\n",
      "Best value: 0.11181922116415806, Best params: {'lags': 197}\n"
     ]
    },
    {
     "name": "stderr",
     "output_type": "stream",
     "text": [
      "[I 2025-07-25 07:51:38,429] Trial 16 finished with value: 0.116120457292815 and parameters: {'lags': 151}. Best is trial 11 with value: 0.11181922116415806.\n"
     ]
    },
    {
     "name": "stdout",
     "output_type": "stream",
     "text": [
      "Current Trial: 16\n",
      "Current value: 0.116120457292815, Current params: {'lags': 151}\n",
      "Best value: 0.11181922116415806, Best params: {'lags': 197}\n"
     ]
    },
    {
     "name": "stderr",
     "output_type": "stream",
     "text": [
      "[I 2025-07-25 08:22:00,189] Trial 17 finished with value: 0.11218770671079559 and parameters: {'lags': 188}. Best is trial 11 with value: 0.11181922116415806.\n"
     ]
    },
    {
     "name": "stdout",
     "output_type": "stream",
     "text": [
      "Current Trial: 17\n",
      "Current value: 0.11218770671079559, Current params: {'lags': 188}\n",
      "Best value: 0.11181922116415806, Best params: {'lags': 197}\n"
     ]
    },
    {
     "name": "stderr",
     "output_type": "stream",
     "text": [
      "[I 2025-07-25 08:45:08,800] Trial 18 finished with value: 0.11536725773159666 and parameters: {'lags': 67}. Best is trial 11 with value: 0.11181922116415806.\n"
     ]
    },
    {
     "name": "stdout",
     "output_type": "stream",
     "text": [
      "Current Trial: 18\n",
      "Current value: 0.11536725773159666, Current params: {'lags': 67}\n",
      "Best value: 0.11181922116415806, Best params: {'lags': 197}\n"
     ]
    },
    {
     "name": "stderr",
     "output_type": "stream",
     "text": [
      "[I 2025-07-25 09:20:21,798] Trial 19 finished with value: 0.11461691845489536 and parameters: {'lags': 155}. Best is trial 11 with value: 0.11181922116415806.\n"
     ]
    },
    {
     "name": "stdout",
     "output_type": "stream",
     "text": [
      "Current Trial: 19\n",
      "Current value: 0.11461691845489536, Current params: {'lags': 155}\n",
      "Best value: 0.11181922116415806, Best params: {'lags': 197}\n"
     ]
    },
    {
     "name": "stderr",
     "output_type": "stream",
     "text": [
      "[I 2025-07-25 09:54:42,334] Trial 20 finished with value: 0.1158259060053014 and parameters: {'lags': 126}. Best is trial 11 with value: 0.11181922116415806.\n"
     ]
    },
    {
     "name": "stdout",
     "output_type": "stream",
     "text": [
      "Current Trial: 20\n",
      "Current value: 0.1158259060053014, Current params: {'lags': 126}\n",
      "Best value: 0.11181922116415806, Best params: {'lags': 197}\n"
     ]
    },
    {
     "name": "stderr",
     "output_type": "stream",
     "text": [
      "[I 2025-07-25 10:29:05,917] Trial 21 finished with value: 0.11363546141978233 and parameters: {'lags': 174}. Best is trial 11 with value: 0.11181922116415806.\n"
     ]
    },
    {
     "name": "stdout",
     "output_type": "stream",
     "text": [
      "Current Trial: 21\n",
      "Current value: 0.11363546141978233, Current params: {'lags': 174}\n",
      "Best value: 0.11181922116415806, Best params: {'lags': 197}\n"
     ]
    },
    {
     "name": "stderr",
     "output_type": "stream",
     "text": [
      "[I 2025-07-25 11:00:48,621] Trial 22 finished with value: 0.11215995564975621 and parameters: {'lags': 196}. Best is trial 11 with value: 0.11181922116415806.\n"
     ]
    },
    {
     "name": "stdout",
     "output_type": "stream",
     "text": [
      "Current Trial: 22\n",
      "Current value: 0.11215995564975621, Current params: {'lags': 196}\n",
      "Best value: 0.11181922116415806, Best params: {'lags': 197}\n"
     ]
    },
    {
     "name": "stderr",
     "output_type": "stream",
     "text": [
      "[I 2025-07-25 11:41:16,325] Trial 23 finished with value: 0.11240481660962015 and parameters: {'lags': 170}. Best is trial 11 with value: 0.11181922116415806.\n"
     ]
    },
    {
     "name": "stdout",
     "output_type": "stream",
     "text": [
      "Current Trial: 23\n",
      "Current value: 0.11240481660962015, Current params: {'lags': 170}\n",
      "Best value: 0.11181922116415806, Best params: {'lags': 197}\n"
     ]
    },
    {
     "name": "stderr",
     "output_type": "stream",
     "text": [
      "[I 2025-07-25 12:23:38,521] Trial 24 finished with value: 0.11300997633358112 and parameters: {'lags': 164}. Best is trial 11 with value: 0.11181922116415806.\n"
     ]
    },
    {
     "name": "stdout",
     "output_type": "stream",
     "text": [
      "Current Trial: 24\n",
      "Current value: 0.11300997633358112, Current params: {'lags': 164}\n",
      "Best value: 0.11181922116415806, Best params: {'lags': 197}\n"
     ]
    },
    {
     "name": "stderr",
     "output_type": "stream",
     "text": [
      "[I 2025-07-25 12:59:53,866] Trial 25 finished with value: 0.11157546119335136 and parameters: {'lags': 198}. Best is trial 25 with value: 0.11157546119335136.\n"
     ]
    },
    {
     "name": "stdout",
     "output_type": "stream",
     "text": [
      "Current Trial: 25\n",
      "Current value: 0.11157546119335136, Current params: {'lags': 198}\n",
      "Best value: 0.11157546119335136, Best params: {'lags': 198}\n"
     ]
    },
    {
     "name": "stderr",
     "output_type": "stream",
     "text": [
      "[I 2025-07-25 13:35:22,811] Trial 26 finished with value: 0.11136566843316094 and parameters: {'lags': 199}. Best is trial 26 with value: 0.11136566843316094.\n"
     ]
    },
    {
     "name": "stdout",
     "output_type": "stream",
     "text": [
      "Current Trial: 26\n",
      "Current value: 0.11136566843316094, Current params: {'lags': 199}\n",
      "Best value: 0.11136566843316094, Best params: {'lags': 199}\n"
     ]
    },
    {
     "name": "stderr",
     "output_type": "stream",
     "text": [
      "[I 2025-07-25 14:12:54,070] Trial 27 finished with value: 0.11257310508757297 and parameters: {'lags': 204}. Best is trial 26 with value: 0.11136566843316094.\n"
     ]
    },
    {
     "name": "stdout",
     "output_type": "stream",
     "text": [
      "Current Trial: 27\n",
      "Current value: 0.11257310508757297, Current params: {'lags': 204}\n",
      "Best value: 0.11136566843316094, Best params: {'lags': 199}\n"
     ]
    },
    {
     "name": "stderr",
     "output_type": "stream",
     "text": [
      "[I 2025-07-25 14:54:08,652] Trial 28 finished with value: 0.11213827603738231 and parameters: {'lags': 194}. Best is trial 26 with value: 0.11136566843316094.\n"
     ]
    },
    {
     "name": "stdout",
     "output_type": "stream",
     "text": [
      "Current Trial: 28\n",
      "Current value: 0.11213827603738231, Current params: {'lags': 194}\n",
      "Best value: 0.11136566843316094, Best params: {'lags': 199}\n"
     ]
    },
    {
     "name": "stderr",
     "output_type": "stream",
     "text": [
      "[I 2025-07-25 15:34:50,989] Trial 29 finished with value: 0.11570553555649214 and parameters: {'lags': 130}. Best is trial 26 with value: 0.11136566843316094.\n"
     ]
    },
    {
     "name": "stdout",
     "output_type": "stream",
     "text": [
      "Current Trial: 29\n",
      "Current value: 0.11570553555649214, Current params: {'lags': 130}\n",
      "Best value: 0.11136566843316094, Best params: {'lags': 199}\n"
     ]
    },
    {
     "name": "stderr",
     "output_type": "stream",
     "text": [
      "[I 2025-07-25 16:13:13,664] Trial 30 finished with value: 0.1154712015745441 and parameters: {'lags': 112}. Best is trial 26 with value: 0.11136566843316094.\n"
     ]
    },
    {
     "name": "stdout",
     "output_type": "stream",
     "text": [
      "Current Trial: 30\n",
      "Current value: 0.1154712015745441, Current params: {'lags': 112}\n",
      "Best value: 0.11136566843316094, Best params: {'lags': 199}\n"
     ]
    },
    {
     "name": "stderr",
     "output_type": "stream",
     "text": [
      "[I 2025-07-25 16:52:26,274] Trial 31 finished with value: 0.11270064329503836 and parameters: {'lags': 183}. Best is trial 26 with value: 0.11136566843316094.\n"
     ]
    },
    {
     "name": "stdout",
     "output_type": "stream",
     "text": [
      "Current Trial: 31\n",
      "Current value: 0.11270064329503836, Current params: {'lags': 183}\n",
      "Best value: 0.11136566843316094, Best params: {'lags': 199}\n"
     ]
    },
    {
     "name": "stderr",
     "output_type": "stream",
     "text": [
      "[I 2025-07-25 17:29:01,805] Trial 32 finished with value: 0.11215995564975621 and parameters: {'lags': 196}. Best is trial 26 with value: 0.11136566843316094.\n"
     ]
    },
    {
     "name": "stdout",
     "output_type": "stream",
     "text": [
      "Current Trial: 32\n",
      "Current value: 0.11215995564975621, Current params: {'lags': 196}\n",
      "Best value: 0.11136566843316094, Best params: {'lags': 199}\n"
     ]
    },
    {
     "name": "stderr",
     "output_type": "stream",
     "text": [
      "[I 2025-07-25 18:07:10,973] Trial 33 finished with value: 0.11292991819932065 and parameters: {'lags': 182}. Best is trial 26 with value: 0.11136566843316094.\n"
     ]
    },
    {
     "name": "stdout",
     "output_type": "stream",
     "text": [
      "Current Trial: 33\n",
      "Current value: 0.11292991819932065, Current params: {'lags': 182}\n",
      "Best value: 0.11136566843316094, Best params: {'lags': 199}\n"
     ]
    },
    {
     "name": "stderr",
     "output_type": "stream",
     "text": [
      "[I 2025-07-25 18:47:46,316] Trial 34 finished with value: 0.1135416600893749 and parameters: {'lags': 159}. Best is trial 26 with value: 0.11136566843316094.\n"
     ]
    },
    {
     "name": "stdout",
     "output_type": "stream",
     "text": [
      "Current Trial: 34\n",
      "Current value: 0.1135416600893749, Current params: {'lags': 159}\n",
      "Best value: 0.11136566843316094, Best params: {'lags': 199}\n"
     ]
    },
    {
     "name": "stderr",
     "output_type": "stream",
     "text": [
      "[I 2025-07-25 19:27:43,890] Trial 35 finished with value: 0.11215995564975621 and parameters: {'lags': 196}. Best is trial 26 with value: 0.11136566843316094.\n"
     ]
    },
    {
     "name": "stdout",
     "output_type": "stream",
     "text": [
      "Current Trial: 35\n",
      "Current value: 0.11215995564975621, Current params: {'lags': 196}\n",
      "Best value: 0.11136566843316094, Best params: {'lags': 199}\n"
     ]
    },
    {
     "name": "stderr",
     "output_type": "stream",
     "text": [
      "[I 2025-07-25 20:08:23,381] Trial 36 finished with value: 0.11308637602036574 and parameters: {'lags': 175}. Best is trial 26 with value: 0.11136566843316094.\n"
     ]
    },
    {
     "name": "stdout",
     "output_type": "stream",
     "text": [
      "Current Trial: 36\n",
      "Current value: 0.11308637602036574, Current params: {'lags': 175}\n",
      "Best value: 0.11136566843316094, Best params: {'lags': 199}\n"
     ]
    },
    {
     "name": "stderr",
     "output_type": "stream",
     "text": [
      "[I 2025-07-25 20:17:46,433] Trial 37 finished with value: 0.16943998555230907 and parameters: {'lags': 19}. Best is trial 26 with value: 0.11136566843316094.\n"
     ]
    },
    {
     "name": "stdout",
     "output_type": "stream",
     "text": [
      "Current Trial: 37\n",
      "Current value: 0.16943998555230907, Current params: {'lags': 19}\n",
      "Best value: 0.11136566843316094, Best params: {'lags': 199}\n"
     ]
    },
    {
     "name": "stderr",
     "output_type": "stream",
     "text": [
      "[I 2025-07-25 20:52:39,020] Trial 38 finished with value: 0.11234606872497277 and parameters: {'lags': 189}. Best is trial 26 with value: 0.11136566843316094.\n"
     ]
    },
    {
     "name": "stdout",
     "output_type": "stream",
     "text": [
      "Current Trial: 38\n",
      "Current value: 0.11234606872497277, Current params: {'lags': 189}\n",
      "Best value: 0.11136566843316094, Best params: {'lags': 199}\n"
     ]
    },
    {
     "name": "stderr",
     "output_type": "stream",
     "text": [
      "[I 2025-07-25 21:29:23,235] Trial 39 finished with value: 0.11596603661793516 and parameters: {'lags': 140}. Best is trial 26 with value: 0.11136566843316094.\n"
     ]
    },
    {
     "name": "stdout",
     "output_type": "stream",
     "text": [
      "Current Trial: 39\n",
      "Current value: 0.11596603661793516, Current params: {'lags': 140}\n",
      "Best value: 0.11136566843316094, Best params: {'lags': 199}\n"
     ]
    },
    {
     "name": "stderr",
     "output_type": "stream",
     "text": [
      "[I 2025-07-25 22:01:15,840] Trial 40 finished with value: 0.11251264380459407 and parameters: {'lags': 208}. Best is trial 26 with value: 0.11136566843316094.\n"
     ]
    },
    {
     "name": "stdout",
     "output_type": "stream",
     "text": [
      "Current Trial: 40\n",
      "Current value: 0.11251264380459407, Current params: {'lags': 208}\n",
      "Best value: 0.11136566843316094, Best params: {'lags': 199}\n"
     ]
    },
    {
     "name": "stderr",
     "output_type": "stream",
     "text": [
      "[I 2025-07-25 22:37:39,533] Trial 41 finished with value: 0.11308637602036574 and parameters: {'lags': 175}. Best is trial 26 with value: 0.11136566843316094.\n"
     ]
    },
    {
     "name": "stdout",
     "output_type": "stream",
     "text": [
      "Current Trial: 41\n",
      "Current value: 0.11308637602036574, Current params: {'lags': 175}\n",
      "Best value: 0.11136566843316094, Best params: {'lags': 199}\n"
     ]
    },
    {
     "name": "stderr",
     "output_type": "stream",
     "text": [
      "[I 2025-07-25 23:11:13,434] Trial 42 finished with value: 0.11157546119335136 and parameters: {'lags': 198}. Best is trial 26 with value: 0.11136566843316094.\n"
     ]
    },
    {
     "name": "stdout",
     "output_type": "stream",
     "text": [
      "Current Trial: 42\n",
      "Current value: 0.11157546119335136, Current params: {'lags': 198}\n",
      "Best value: 0.11136566843316094, Best params: {'lags': 199}\n"
     ]
    },
    {
     "name": "stderr",
     "output_type": "stream",
     "text": [
      "[I 2025-07-25 23:44:39,127] Trial 43 finished with value: 0.11136566843316094 and parameters: {'lags': 199}. Best is trial 26 with value: 0.11136566843316094.\n"
     ]
    },
    {
     "name": "stdout",
     "output_type": "stream",
     "text": [
      "Current Trial: 43\n",
      "Current value: 0.11136566843316094, Current params: {'lags': 199}\n",
      "Best value: 0.11136566843316094, Best params: {'lags': 199}\n"
     ]
    },
    {
     "name": "stderr",
     "output_type": "stream",
     "text": [
      "[I 2025-07-26 00:17:51,987] Trial 44 finished with value: 0.1122453246689357 and parameters: {'lags': 200}. Best is trial 26 with value: 0.11136566843316094.\n"
     ]
    },
    {
     "name": "stdout",
     "output_type": "stream",
     "text": [
      "Current Trial: 44\n",
      "Current value: 0.1122453246689357, Current params: {'lags': 200}\n",
      "Best value: 0.11136566843316094, Best params: {'lags': 199}\n"
     ]
    },
    {
     "name": "stderr",
     "output_type": "stream",
     "text": [
      "[I 2025-07-26 00:51:59,180] Trial 45 finished with value: 0.11253144016350618 and parameters: {'lags': 185}. Best is trial 26 with value: 0.11136566843316094.\n"
     ]
    },
    {
     "name": "stdout",
     "output_type": "stream",
     "text": [
      "Current Trial: 45\n",
      "Current value: 0.11253144016350618, Current params: {'lags': 185}\n",
      "Best value: 0.11136566843316094, Best params: {'lags': 199}\n"
     ]
    },
    {
     "name": "stderr",
     "output_type": "stream",
     "text": [
      "[I 2025-07-26 01:25:49,521] Trial 46 finished with value: 0.11154653147805586 and parameters: {'lags': 190}. Best is trial 26 with value: 0.11136566843316094.\n"
     ]
    },
    {
     "name": "stdout",
     "output_type": "stream",
     "text": [
      "Current Trial: 46\n",
      "Current value: 0.11154653147805586, Current params: {'lags': 190}\n",
      "Best value: 0.11136566843316094, Best params: {'lags': 199}\n"
     ]
    },
    {
     "name": "stderr",
     "output_type": "stream",
     "text": [
      "[I 2025-07-26 01:59:48,036] Trial 47 finished with value: 0.11154653147805586 and parameters: {'lags': 190}. Best is trial 26 with value: 0.11136566843316094.\n"
     ]
    },
    {
     "name": "stdout",
     "output_type": "stream",
     "text": [
      "Current Trial: 47\n",
      "Current value: 0.11154653147805586, Current params: {'lags': 190}\n",
      "Best value: 0.11136566843316094, Best params: {'lags': 199}\n"
     ]
    },
    {
     "name": "stderr",
     "output_type": "stream",
     "text": [
      "[I 2025-07-26 02:35:47,846] Trial 48 finished with value: 0.11668086467445528 and parameters: {'lags': 149}. Best is trial 26 with value: 0.11136566843316094.\n"
     ]
    },
    {
     "name": "stdout",
     "output_type": "stream",
     "text": [
      "Current Trial: 48\n",
      "Current value: 0.11668086467445528, Current params: {'lags': 149}\n",
      "Best value: 0.11136566843316094, Best params: {'lags': 199}\n"
     ]
    },
    {
     "name": "stderr",
     "output_type": "stream",
     "text": [
      "[I 2025-07-26 03:08:55,809] Trial 49 finished with value: 0.11300997633358112 and parameters: {'lags': 164}. Best is trial 26 with value: 0.11136566843316094.\n"
     ]
    },
    {
     "name": "stdout",
     "output_type": "stream",
     "text": [
      "Current Trial: 49\n",
      "Current value: 0.11300997633358112, Current params: {'lags': 164}\n",
      "Best value: 0.11136566843316094, Best params: {'lags': 199}\n"
     ]
    },
    {
     "name": "stderr",
     "output_type": "stream",
     "text": [
      "[I 2025-07-26 03:40:55,960] Trial 50 finished with value: 0.11302115896945715 and parameters: {'lags': 179}. Best is trial 26 with value: 0.11136566843316094.\n"
     ]
    },
    {
     "name": "stdout",
     "output_type": "stream",
     "text": [
      "Current Trial: 50\n",
      "Current value: 0.11302115896945715, Current params: {'lags': 179}\n",
      "Best value: 0.11136566843316094, Best params: {'lags': 199}\n"
     ]
    },
    {
     "name": "stderr",
     "output_type": "stream",
     "text": [
      "[I 2025-07-26 04:12:09,995] Trial 51 finished with value: 0.11234606872497277 and parameters: {'lags': 189}. Best is trial 26 with value: 0.11136566843316094.\n"
     ]
    },
    {
     "name": "stdout",
     "output_type": "stream",
     "text": [
      "Current Trial: 51\n",
      "Current value: 0.11234606872497277, Current params: {'lags': 189}\n",
      "Best value: 0.11136566843316094, Best params: {'lags': 199}\n"
     ]
    },
    {
     "name": "stderr",
     "output_type": "stream",
     "text": [
      "[I 2025-07-26 04:40:42,199] Trial 52 finished with value: 0.11251264380459407 and parameters: {'lags': 208}. Best is trial 26 with value: 0.11136566843316094.\n"
     ]
    },
    {
     "name": "stdout",
     "output_type": "stream",
     "text": [
      "Current Trial: 52\n",
      "Current value: 0.11251264380459407, Current params: {'lags': 208}\n",
      "Best value: 0.11136566843316094, Best params: {'lags': 199}\n"
     ]
    },
    {
     "name": "stderr",
     "output_type": "stream",
     "text": [
      "[I 2025-07-26 05:09:49,293] Trial 53 finished with value: 0.1122453246689357 and parameters: {'lags': 200}. Best is trial 26 with value: 0.11136566843316094.\n"
     ]
    },
    {
     "name": "stdout",
     "output_type": "stream",
     "text": [
      "Current Trial: 53\n",
      "Current value: 0.1122453246689357, Current params: {'lags': 200}\n",
      "Best value: 0.11136566843316094, Best params: {'lags': 199}\n"
     ]
    },
    {
     "name": "stderr",
     "output_type": "stream",
     "text": [
      "[I 2025-07-26 05:39:52,856] Trial 54 finished with value: 0.11117214070573293 and parameters: {'lags': 191}. Best is trial 54 with value: 0.11117214070573293.\n"
     ]
    },
    {
     "name": "stdout",
     "output_type": "stream",
     "text": [
      "Current Trial: 54\n",
      "Current value: 0.11117214070573293, Current params: {'lags': 191}\n",
      "Best value: 0.11117214070573293, Best params: {'lags': 191}\n"
     ]
    },
    {
     "name": "stderr",
     "output_type": "stream",
     "text": [
      "[I 2025-07-26 06:11:32,844] Trial 55 finished with value: 0.11329221387387205 and parameters: {'lags': 167}. Best is trial 54 with value: 0.11117214070573293.\n"
     ]
    },
    {
     "name": "stdout",
     "output_type": "stream",
     "text": [
      "Current Trial: 55\n",
      "Current value: 0.11329221387387205, Current params: {'lags': 167}\n",
      "Best value: 0.11117214070573293, Best params: {'lags': 191}\n"
     ]
    },
    {
     "name": "stderr",
     "output_type": "stream",
     "text": [
      "[I 2025-07-26 06:42:03,871] Trial 56 finished with value: 0.11164140553191286 and parameters: {'lags': 187}. Best is trial 54 with value: 0.11117214070573293.\n"
     ]
    },
    {
     "name": "stdout",
     "output_type": "stream",
     "text": [
      "Current Trial: 56\n",
      "Current value: 0.11164140553191286, Current params: {'lags': 187}\n",
      "Best value: 0.11117214070573293, Best params: {'lags': 191}\n"
     ]
    },
    {
     "name": "stderr",
     "output_type": "stream",
     "text": [
      "[I 2025-07-26 07:12:19,346] Trial 57 finished with value: 0.11117214070573293 and parameters: {'lags': 191}. Best is trial 54 with value: 0.11117214070573293.\n"
     ]
    },
    {
     "name": "stdout",
     "output_type": "stream",
     "text": [
      "Current Trial: 57\n",
      "Current value: 0.11117214070573293, Current params: {'lags': 191}\n",
      "Best value: 0.11117214070573293, Best params: {'lags': 191}\n"
     ]
    },
    {
     "name": "stderr",
     "output_type": "stream",
     "text": [
      "[I 2025-07-26 07:34:02,542] Trial 58 finished with value: 0.11660293850503023 and parameters: {'lags': 62}. Best is trial 54 with value: 0.11117214070573293.\n"
     ]
    },
    {
     "name": "stdout",
     "output_type": "stream",
     "text": [
      "Current Trial: 58\n",
      "Current value: 0.11660293850503023, Current params: {'lags': 62}\n",
      "Best value: 0.11117214070573293, Best params: {'lags': 191}\n"
     ]
    },
    {
     "name": "stderr",
     "output_type": "stream",
     "text": [
      "[I 2025-07-26 08:06:48,422] Trial 59 finished with value: 0.11354299984940582 and parameters: {'lags': 158}. Best is trial 54 with value: 0.11117214070573293.\n"
     ]
    },
    {
     "name": "stdout",
     "output_type": "stream",
     "text": [
      "Current Trial: 59\n",
      "Current value: 0.11354299984940582, Current params: {'lags': 158}\n",
      "Best value: 0.11117214070573293, Best params: {'lags': 191}\n"
     ]
    },
    {
     "name": "stderr",
     "output_type": "stream",
     "text": [
      "[I 2025-07-26 08:36:33,954] Trial 60 finished with value: 0.11660635228111672 and parameters: {'lags': 101}. Best is trial 54 with value: 0.11117214070573293.\n"
     ]
    },
    {
     "name": "stdout",
     "output_type": "stream",
     "text": [
      "Current Trial: 60\n",
      "Current value: 0.11660635228111672, Current params: {'lags': 101}\n",
      "Best value: 0.11117214070573293, Best params: {'lags': 191}\n"
     ]
    },
    {
     "name": "stderr",
     "output_type": "stream",
     "text": [
      "[I 2025-07-26 09:07:11,048] Trial 61 finished with value: 0.11234606872497277 and parameters: {'lags': 189}. Best is trial 54 with value: 0.11117214070573293.\n"
     ]
    },
    {
     "name": "stdout",
     "output_type": "stream",
     "text": [
      "Current Trial: 61\n",
      "Current value: 0.11234606872497277, Current params: {'lags': 189}\n",
      "Best value: 0.11117214070573293, Best params: {'lags': 191}\n"
     ]
    },
    {
     "name": "stderr",
     "output_type": "stream",
     "text": [
      "[I 2025-07-26 09:38:39,066] Trial 62 finished with value: 0.11302115896945715 and parameters: {'lags': 179}. Best is trial 54 with value: 0.11117214070573293.\n"
     ]
    },
    {
     "name": "stdout",
     "output_type": "stream",
     "text": [
      "Current Trial: 62\n",
      "Current value: 0.11302115896945715, Current params: {'lags': 179}\n",
      "Best value: 0.11117214070573293, Best params: {'lags': 191}\n"
     ]
    },
    {
     "name": "stderr",
     "output_type": "stream",
     "text": [
      "[I 2025-07-26 10:08:59,009] Trial 63 finished with value: 0.11213827603738231 and parameters: {'lags': 194}. Best is trial 54 with value: 0.11117214070573293.\n"
     ]
    },
    {
     "name": "stdout",
     "output_type": "stream",
     "text": [
      "Current Trial: 63\n",
      "Current value: 0.11213827603738231, Current params: {'lags': 194}\n",
      "Best value: 0.11117214070573293, Best params: {'lags': 191}\n"
     ]
    }
   ],
   "source": [
    "sampler2 = TPESampler(seed = random_seed)\n",
    "study2 = optuna.create_study(direction = \"minimize\", sampler = sampler2)\n",
    "\n",
    "study2.optimize(lambda trial: climate_objective(trial, \"RandomForest\", retrain_per_fold = retrain_per_fold), callbacks = [print_callback], n_trials = 64)"
   ]
  },
  {
   "cell_type": "code",
   "execution_count": 19,
   "id": "13795455-6bf7-4977-bdb3-2f36ce9b41c5",
   "metadata": {},
   "outputs": [],
   "source": [
    "write_study(study2, \"RandomForest\")"
   ]
  },
  {
   "cell_type": "code",
   "execution_count": 20,
   "id": "acb63f6b-4ebc-47fd-a20a-94ceeb12bc31",
   "metadata": {
    "scrolled": true
   },
   "outputs": [
    {
     "name": "stderr",
     "output_type": "stream",
     "text": [
      "[I 2025-07-26 10:08:59,047] A new study created in memory with name: no-name-6679a2fb-12c8-46ba-883c-635ccd91cdf6\n",
      "[I 2025-07-26 10:15:11,182] Trial 0 finished with value: 0.11935670219708926 and parameters: {'lags': 124}. Best is trial 0 with value: 0.11935670219708926.\n"
     ]
    },
    {
     "name": "stdout",
     "output_type": "stream",
     "text": [
      "Current Trial: 0\n",
      "Current value: 0.11935670219708926, Current params: {'lags': 124}\n",
      "Best value: 0.11935670219708926, Best params: {'lags': 124}\n"
     ]
    },
    {
     "name": "stderr",
     "output_type": "stream",
     "text": [
      "[I 2025-07-26 10:23:31,362] Trial 1 finished with value: 0.11629584468518077 and parameters: {'lags': 188}. Best is trial 1 with value: 0.11629584468518077.\n"
     ]
    },
    {
     "name": "stdout",
     "output_type": "stream",
     "text": [
      "Current Trial: 1\n",
      "Current value: 0.11629584468518077, Current params: {'lags': 188}\n",
      "Best value: 0.11629584468518077, Best params: {'lags': 188}\n"
     ]
    },
    {
     "name": "stderr",
     "output_type": "stream",
     "text": [
      "[I 2025-07-26 10:31:44,129] Trial 2 finished with value: 0.11590201345706586 and parameters: {'lags': 186}. Best is trial 2 with value: 0.11590201345706586.\n"
     ]
    },
    {
     "name": "stdout",
     "output_type": "stream",
     "text": [
      "Current Trial: 2\n",
      "Current value: 0.11590201345706586, Current params: {'lags': 186}\n",
      "Best value: 0.11590201345706586, Best params: {'lags': 186}\n"
     ]
    },
    {
     "name": "stderr",
     "output_type": "stream",
     "text": [
      "[I 2025-07-26 10:39:32,929] Trial 3 finished with value: 0.11542093809790888 and parameters: {'lags': 171}. Best is trial 3 with value: 0.11542093809790888.\n"
     ]
    },
    {
     "name": "stdout",
     "output_type": "stream",
     "text": [
      "Current Trial: 3\n",
      "Current value: 0.11542093809790888, Current params: {'lags': 171}\n",
      "Best value: 0.11542093809790888, Best params: {'lags': 171}\n"
     ]
    },
    {
     "name": "stderr",
     "output_type": "stream",
     "text": [
      "[I 2025-07-26 10:40:04,053] Trial 4 finished with value: 0.17446199605826493 and parameters: {'lags': 11}. Best is trial 3 with value: 0.11542093809790888.\n"
     ]
    },
    {
     "name": "stdout",
     "output_type": "stream",
     "text": [
      "Current Trial: 4\n",
      "Current value: 0.17446199605826493, Current params: {'lags': 11}\n",
      "Best value: 0.11542093809790888, Best params: {'lags': 171}\n"
     ]
    },
    {
     "name": "stderr",
     "output_type": "stream",
     "text": [
      "[I 2025-07-26 10:46:41,144] Trial 5 finished with value: 0.11995482143544246 and parameters: {'lags': 145}. Best is trial 3 with value: 0.11542093809790888.\n"
     ]
    },
    {
     "name": "stdout",
     "output_type": "stream",
     "text": [
      "Current Trial: 5\n",
      "Current value: 0.11995482143544246, Current params: {'lags': 145}\n",
      "Best value: 0.11542093809790888, Best params: {'lags': 171}\n"
     ]
    },
    {
     "name": "stderr",
     "output_type": "stream",
     "text": [
      "[I 2025-07-26 10:50:42,797] Trial 6 finished with value: 0.11872086828679052 and parameters: {'lags': 81}. Best is trial 3 with value: 0.11542093809790888.\n"
     ]
    },
    {
     "name": "stdout",
     "output_type": "stream",
     "text": [
      "Current Trial: 6\n",
      "Current value: 0.11872086828679052, Current params: {'lags': 81}\n",
      "Best value: 0.11542093809790888, Best params: {'lags': 171}\n"
     ]
    },
    {
     "name": "stderr",
     "output_type": "stream",
     "text": [
      "[I 2025-07-26 10:56:07,110] Trial 7 finished with value: 0.11849857068142795 and parameters: {'lags': 110}. Best is trial 3 with value: 0.11542093809790888.\n"
     ]
    },
    {
     "name": "stdout",
     "output_type": "stream",
     "text": [
      "Current Trial: 7\n",
      "Current value: 0.11849857068142795, Current params: {'lags': 110}\n",
      "Best value: 0.11542093809790888, Best params: {'lags': 171}\n"
     ]
    },
    {
     "name": "stderr",
     "output_type": "stream",
     "text": [
      "[I 2025-07-26 11:02:39,843] Trial 8 finished with value: 0.11985445536479657 and parameters: {'lags': 138}. Best is trial 3 with value: 0.11542093809790888.\n"
     ]
    },
    {
     "name": "stdout",
     "output_type": "stream",
     "text": [
      "Current Trial: 8\n",
      "Current value: 0.11985445536479657, Current params: {'lags': 138}\n",
      "Best value: 0.11542093809790888, Best params: {'lags': 171}\n"
     ]
    },
    {
     "name": "stderr",
     "output_type": "stream",
     "text": [
      "[I 2025-07-26 11:04:46,815] Trial 9 finished with value: 0.12582023416847407 and parameters: {'lags': 43}. Best is trial 3 with value: 0.11542093809790888.\n"
     ]
    },
    {
     "name": "stdout",
     "output_type": "stream",
     "text": [
      "Current Trial: 9\n",
      "Current value: 0.12582023416847407, Current params: {'lags': 43}\n",
      "Best value: 0.11542093809790888, Best params: {'lags': 171}\n"
     ]
    },
    {
     "name": "stderr",
     "output_type": "stream",
     "text": [
      "[I 2025-07-26 11:12:26,589] Trial 10 finished with value: 0.11598811514429275 and parameters: {'lags': 168}. Best is trial 3 with value: 0.11542093809790888.\n"
     ]
    },
    {
     "name": "stdout",
     "output_type": "stream",
     "text": [
      "Current Trial: 10\n",
      "Current value: 0.11598811514429275, Current params: {'lags': 168}\n",
      "Best value: 0.11542093809790888, Best params: {'lags': 171}\n"
     ]
    },
    {
     "name": "stderr",
     "output_type": "stream",
     "text": [
      "[I 2025-07-26 11:21:10,348] Trial 11 finished with value: 0.115962177916488 and parameters: {'lags': 197}. Best is trial 3 with value: 0.11542093809790888.\n"
     ]
    },
    {
     "name": "stdout",
     "output_type": "stream",
     "text": [
      "Current Trial: 11\n",
      "Current value: 0.115962177916488, Current params: {'lags': 197}\n",
      "Best value: 0.11542093809790888, Best params: {'lags': 171}\n"
     ]
    },
    {
     "name": "stderr",
     "output_type": "stream",
     "text": [
      "[I 2025-07-26 11:30:27,129] Trial 12 finished with value: 0.11518386469349219 and parameters: {'lags': 208}. Best is trial 12 with value: 0.11518386469349219.\n"
     ]
    },
    {
     "name": "stdout",
     "output_type": "stream",
     "text": [
      "Current Trial: 12\n",
      "Current value: 0.11518386469349219, Current params: {'lags': 208}\n",
      "Best value: 0.11518386469349219, Best params: {'lags': 208}\n"
     ]
    },
    {
     "name": "stderr",
     "output_type": "stream",
     "text": [
      "[I 2025-07-26 11:39:29,467] Trial 13 finished with value: 0.11518386469349219 and parameters: {'lags': 208}. Best is trial 12 with value: 0.11518386469349219.\n"
     ]
    },
    {
     "name": "stdout",
     "output_type": "stream",
     "text": [
      "Current Trial: 13\n",
      "Current value: 0.11518386469349219, Current params: {'lags': 208}\n",
      "Best value: 0.11518386469349219, Best params: {'lags': 208}\n"
     ]
    },
    {
     "name": "stderr",
     "output_type": "stream",
     "text": [
      "[I 2025-07-26 11:48:52,690] Trial 14 finished with value: 0.11518386469349219 and parameters: {'lags': 208}. Best is trial 12 with value: 0.11518386469349219.\n"
     ]
    },
    {
     "name": "stdout",
     "output_type": "stream",
     "text": [
      "Current Trial: 14\n",
      "Current value: 0.11518386469349219, Current params: {'lags': 208}\n",
      "Best value: 0.11518386469349219, Best params: {'lags': 208}\n"
     ]
    },
    {
     "name": "stderr",
     "output_type": "stream",
     "text": [
      "[I 2025-07-26 11:53:24,157] Trial 15 finished with value: 0.1205685878548442 and parameters: {'lags': 79}. Best is trial 12 with value: 0.11518386469349219.\n"
     ]
    },
    {
     "name": "stdout",
     "output_type": "stream",
     "text": [
      "Current Trial: 15\n",
      "Current value: 0.1205685878548442, Current params: {'lags': 79}\n",
      "Best value: 0.11518386469349219, Best params: {'lags': 208}\n"
     ]
    },
    {
     "name": "stderr",
     "output_type": "stream",
     "text": [
      "[I 2025-07-26 12:01:18,414] Trial 16 finished with value: 0.1164904538810319 and parameters: {'lags': 157}. Best is trial 12 with value: 0.11518386469349219.\n"
     ]
    },
    {
     "name": "stdout",
     "output_type": "stream",
     "text": [
      "Current Trial: 16\n",
      "Current value: 0.1164904538810319, Current params: {'lags': 157}\n",
      "Best value: 0.11518386469349219, Best params: {'lags': 208}\n"
     ]
    },
    {
     "name": "stderr",
     "output_type": "stream",
     "text": [
      "[I 2025-07-26 12:10:26,649] Trial 17 finished with value: 0.11475373941940915 and parameters: {'lags': 204}. Best is trial 17 with value: 0.11475373941940915.\n"
     ]
    },
    {
     "name": "stdout",
     "output_type": "stream",
     "text": [
      "Current Trial: 17\n",
      "Current value: 0.11475373941940915, Current params: {'lags': 204}\n",
      "Best value: 0.11475373941940915, Best params: {'lags': 204}\n"
     ]
    },
    {
     "name": "stderr",
     "output_type": "stream",
     "text": [
      "[I 2025-07-26 12:14:59,372] Trial 18 finished with value: 0.11854604310263972 and parameters: {'lags': 87}. Best is trial 17 with value: 0.11475373941940915.\n"
     ]
    },
    {
     "name": "stdout",
     "output_type": "stream",
     "text": [
      "Current Trial: 18\n",
      "Current value: 0.11854604310263972, Current params: {'lags': 87}\n",
      "Best value: 0.11475373941940915, Best params: {'lags': 204}\n"
     ]
    },
    {
     "name": "stderr",
     "output_type": "stream",
     "text": [
      "[I 2025-07-26 12:22:57,371] Trial 19 finished with value: 0.11674824231003868 and parameters: {'lags': 176}. Best is trial 17 with value: 0.11475373941940915.\n"
     ]
    },
    {
     "name": "stdout",
     "output_type": "stream",
     "text": [
      "Current Trial: 19\n",
      "Current value: 0.11674824231003868, Current params: {'lags': 176}\n",
      "Best value: 0.11475373941940915, Best params: {'lags': 204}\n"
     ]
    },
    {
     "name": "stderr",
     "output_type": "stream",
     "text": [
      "[I 2025-07-26 12:30:00,546] Trial 20 finished with value: 0.11971937371216772 and parameters: {'lags': 151}. Best is trial 17 with value: 0.11475373941940915.\n"
     ]
    },
    {
     "name": "stdout",
     "output_type": "stream",
     "text": [
      "Current Trial: 20\n",
      "Current value: 0.11971937371216772, Current params: {'lags': 151}\n",
      "Best value: 0.11475373941940915, Best params: {'lags': 204}\n"
     ]
    },
    {
     "name": "stderr",
     "output_type": "stream",
     "text": [
      "[I 2025-07-26 12:38:35,633] Trial 21 finished with value: 0.11542467049290944 and parameters: {'lags': 207}. Best is trial 17 with value: 0.11475373941940915.\n"
     ]
    },
    {
     "name": "stdout",
     "output_type": "stream",
     "text": [
      "Current Trial: 21\n",
      "Current value: 0.11542467049290944, Current params: {'lags': 207}\n",
      "Best value: 0.11475373941940915, Best params: {'lags': 204}\n"
     ]
    },
    {
     "name": "stderr",
     "output_type": "stream",
     "text": [
      "[I 2025-07-26 12:47:13,674] Trial 22 finished with value: 0.11518386469349219 and parameters: {'lags': 208}. Best is trial 17 with value: 0.11475373941940915.\n"
     ]
    },
    {
     "name": "stdout",
     "output_type": "stream",
     "text": [
      "Current Trial: 22\n",
      "Current value: 0.11518386469349219, Current params: {'lags': 208}\n",
      "Best value: 0.11475373941940915, Best params: {'lags': 204}\n"
     ]
    },
    {
     "name": "stderr",
     "output_type": "stream",
     "text": [
      "[I 2025-07-26 12:55:26,566] Trial 23 finished with value: 0.11590201345706586 and parameters: {'lags': 186}. Best is trial 17 with value: 0.11475373941940915.\n"
     ]
    },
    {
     "name": "stdout",
     "output_type": "stream",
     "text": [
      "Current Trial: 23\n",
      "Current value: 0.11590201345706586, Current params: {'lags': 186}\n",
      "Best value: 0.11475373941940915, Best params: {'lags': 204}\n"
     ]
    },
    {
     "name": "stderr",
     "output_type": "stream",
     "text": [
      "[I 2025-07-26 13:03:55,189] Trial 24 finished with value: 0.11569901711733567 and parameters: {'lags': 166}. Best is trial 17 with value: 0.11475373941940915.\n"
     ]
    },
    {
     "name": "stdout",
     "output_type": "stream",
     "text": [
      "Current Trial: 24\n",
      "Current value: 0.11569901711733567, Current params: {'lags': 166}\n",
      "Best value: 0.11475373941940915, Best params: {'lags': 204}\n"
     ]
    },
    {
     "name": "stderr",
     "output_type": "stream",
     "text": [
      "[I 2025-07-26 13:13:58,751] Trial 25 finished with value: 0.1159087625895815 and parameters: {'lags': 193}. Best is trial 17 with value: 0.11475373941940915.\n"
     ]
    },
    {
     "name": "stdout",
     "output_type": "stream",
     "text": [
      "Current Trial: 25\n",
      "Current value: 0.1159087625895815, Current params: {'lags': 193}\n",
      "Best value: 0.11475373941940915, Best params: {'lags': 204}\n"
     ]
    },
    {
     "name": "stderr",
     "output_type": "stream",
     "text": [
      "[I 2025-07-26 13:24:00,223] Trial 26 finished with value: 0.11575679476548034 and parameters: {'lags': 181}. Best is trial 17 with value: 0.11475373941940915.\n"
     ]
    },
    {
     "name": "stdout",
     "output_type": "stream",
     "text": [
      "Current Trial: 26\n",
      "Current value: 0.11575679476548034, Current params: {'lags': 181}\n",
      "Best value: 0.11475373941940915, Best params: {'lags': 204}\n"
     ]
    },
    {
     "name": "stderr",
     "output_type": "stream",
     "text": [
      "[I 2025-07-26 13:31:41,093] Trial 27 finished with value: 0.11862167795684564 and parameters: {'lags': 128}. Best is trial 17 with value: 0.11475373941940915.\n"
     ]
    },
    {
     "name": "stdout",
     "output_type": "stream",
     "text": [
      "Current Trial: 27\n",
      "Current value: 0.11862167795684564, Current params: {'lags': 128}\n",
      "Best value: 0.11475373941940915, Best params: {'lags': 204}\n"
     ]
    },
    {
     "name": "stderr",
     "output_type": "stream",
     "text": [
      "[I 2025-07-26 13:34:43,780] Trial 28 finished with value: 0.12551301051179428 and parameters: {'lags': 45}. Best is trial 17 with value: 0.11475373941940915.\n"
     ]
    },
    {
     "name": "stdout",
     "output_type": "stream",
     "text": [
      "Current Trial: 28\n",
      "Current value: 0.12551301051179428, Current params: {'lags': 45}\n",
      "Best value: 0.11475373941940915, Best params: {'lags': 204}\n"
     ]
    },
    {
     "name": "stderr",
     "output_type": "stream",
     "text": [
      "[I 2025-07-26 13:41:33,141] Trial 29 finished with value: 0.11910838763471836 and parameters: {'lags': 104}. Best is trial 17 with value: 0.11475373941940915.\n"
     ]
    },
    {
     "name": "stdout",
     "output_type": "stream",
     "text": [
      "Current Trial: 29\n",
      "Current value: 0.11910838763471836, Current params: {'lags': 104}\n",
      "Best value: 0.11475373941940915, Best params: {'lags': 204}\n"
     ]
    },
    {
     "name": "stderr",
     "output_type": "stream",
     "text": [
      "[I 2025-07-26 13:51:39,055] Trial 30 finished with value: 0.115962177916488 and parameters: {'lags': 197}. Best is trial 17 with value: 0.11475373941940915.\n"
     ]
    },
    {
     "name": "stdout",
     "output_type": "stream",
     "text": [
      "Current Trial: 30\n",
      "Current value: 0.115962177916488, Current params: {'lags': 197}\n",
      "Best value: 0.11475373941940915, Best params: {'lags': 204}\n"
     ]
    },
    {
     "name": "stderr",
     "output_type": "stream",
     "text": [
      "[I 2025-07-26 14:02:18,178] Trial 31 finished with value: 0.11518386469349219 and parameters: {'lags': 208}. Best is trial 17 with value: 0.11475373941940915.\n"
     ]
    },
    {
     "name": "stdout",
     "output_type": "stream",
     "text": [
      "Current Trial: 31\n",
      "Current value: 0.11518386469349219, Current params: {'lags': 208}\n",
      "Best value: 0.11475373941940915, Best params: {'lags': 204}\n"
     ]
    },
    {
     "name": "stderr",
     "output_type": "stream",
     "text": [
      "[I 2025-07-26 14:12:13,353] Trial 32 finished with value: 0.11624410876431435 and parameters: {'lags': 198}. Best is trial 17 with value: 0.11475373941940915.\n"
     ]
    },
    {
     "name": "stdout",
     "output_type": "stream",
     "text": [
      "Current Trial: 32\n",
      "Current value: 0.11624410876431435, Current params: {'lags': 198}\n",
      "Best value: 0.11475373941940915, Best params: {'lags': 204}\n"
     ]
    },
    {
     "name": "stderr",
     "output_type": "stream",
     "text": [
      "[I 2025-07-26 14:21:32,173] Trial 33 finished with value: 0.11528682439411199 and parameters: {'lags': 182}. Best is trial 17 with value: 0.11475373941940915.\n"
     ]
    },
    {
     "name": "stdout",
     "output_type": "stream",
     "text": [
      "Current Trial: 33\n",
      "Current value: 0.11528682439411199, Current params: {'lags': 182}\n",
      "Best value: 0.11475373941940915, Best params: {'lags': 204}\n"
     ]
    },
    {
     "name": "stderr",
     "output_type": "stream",
     "text": [
      "[I 2025-07-26 14:30:19,622] Trial 34 finished with value: 0.11587209443620528 and parameters: {'lags': 158}. Best is trial 17 with value: 0.11475373941940915.\n"
     ]
    },
    {
     "name": "stdout",
     "output_type": "stream",
     "text": [
      "Current Trial: 34\n",
      "Current value: 0.11587209443620528, Current params: {'lags': 158}\n",
      "Best value: 0.11475373941940915, Best params: {'lags': 204}\n"
     ]
    },
    {
     "name": "stderr",
     "output_type": "stream",
     "text": [
      "[I 2025-07-26 14:40:42,677] Trial 35 finished with value: 0.1158331574721001 and parameters: {'lags': 191}. Best is trial 17 with value: 0.11475373941940915.\n"
     ]
    },
    {
     "name": "stdout",
     "output_type": "stream",
     "text": [
      "Current Trial: 35\n",
      "Current value: 0.1158331574721001, Current params: {'lags': 191}\n",
      "Best value: 0.11475373941940915, Best params: {'lags': 204}\n"
     ]
    },
    {
     "name": "stderr",
     "output_type": "stream",
     "text": [
      "[I 2025-07-26 14:50:37,184] Trial 36 finished with value: 0.11578840158113606 and parameters: {'lags': 175}. Best is trial 17 with value: 0.11475373941940915.\n"
     ]
    },
    {
     "name": "stdout",
     "output_type": "stream",
     "text": [
      "Current Trial: 36\n",
      "Current value: 0.11578840158113606, Current params: {'lags': 175}\n",
      "Best value: 0.11475373941940915, Best params: {'lags': 204}\n"
     ]
    },
    {
     "name": "stderr",
     "output_type": "stream",
     "text": [
      "[I 2025-07-26 15:01:39,138] Trial 37 finished with value: 0.11592675616699095 and parameters: {'lags': 200}. Best is trial 17 with value: 0.11475373941940915.\n"
     ]
    },
    {
     "name": "stdout",
     "output_type": "stream",
     "text": [
      "Current Trial: 37\n",
      "Current value: 0.11592675616699095, Current params: {'lags': 200}\n",
      "Best value: 0.11475373941940915, Best params: {'lags': 204}\n"
     ]
    },
    {
     "name": "stderr",
     "output_type": "stream",
     "text": [
      "[I 2025-07-26 15:12:09,718] Trial 38 finished with value: 0.11590201345706586 and parameters: {'lags': 186}. Best is trial 17 with value: 0.11475373941940915.\n"
     ]
    },
    {
     "name": "stdout",
     "output_type": "stream",
     "text": [
      "Current Trial: 38\n",
      "Current value: 0.11590201345706586, Current params: {'lags': 186}\n",
      "Best value: 0.11475373941940915, Best params: {'lags': 204}\n"
     ]
    },
    {
     "name": "stderr",
     "output_type": "stream",
     "text": [
      "[I 2025-07-26 15:21:07,617] Trial 39 finished with value: 0.11587598230487868 and parameters: {'lags': 164}. Best is trial 17 with value: 0.11475373941940915.\n"
     ]
    },
    {
     "name": "stdout",
     "output_type": "stream",
     "text": [
      "Current Trial: 39\n",
      "Current value: 0.11587598230487868, Current params: {'lags': 164}\n",
      "Best value: 0.11475373941940915, Best params: {'lags': 204}\n"
     ]
    },
    {
     "name": "stderr",
     "output_type": "stream",
     "text": [
      "[I 2025-07-26 15:29:11,056] Trial 40 finished with value: 0.11954147656556428 and parameters: {'lags': 139}. Best is trial 17 with value: 0.11475373941940915.\n"
     ]
    },
    {
     "name": "stdout",
     "output_type": "stream",
     "text": [
      "Current Trial: 40\n",
      "Current value: 0.11954147656556428, Current params: {'lags': 139}\n",
      "Best value: 0.11475373941940915, Best params: {'lags': 204}\n"
     ]
    },
    {
     "name": "stderr",
     "output_type": "stream",
     "text": [
      "[I 2025-07-26 15:40:30,872] Trial 41 finished with value: 0.1160344215081887 and parameters: {'lags': 199}. Best is trial 17 with value: 0.11475373941940915.\n"
     ]
    },
    {
     "name": "stdout",
     "output_type": "stream",
     "text": [
      "Current Trial: 41\n",
      "Current value: 0.1160344215081887, Current params: {'lags': 199}\n",
      "Best value: 0.11475373941940915, Best params: {'lags': 204}\n"
     ]
    },
    {
     "name": "stderr",
     "output_type": "stream",
     "text": [
      "[I 2025-07-26 15:52:26,439] Trial 42 finished with value: 0.11542467049290944 and parameters: {'lags': 207}. Best is trial 17 with value: 0.11475373941940915.\n"
     ]
    },
    {
     "name": "stdout",
     "output_type": "stream",
     "text": [
      "Current Trial: 42\n",
      "Current value: 0.11542467049290944, Current params: {'lags': 207}\n",
      "Best value: 0.11475373941940915, Best params: {'lags': 204}\n"
     ]
    },
    {
     "name": "stderr",
     "output_type": "stream",
     "text": [
      "[I 2025-07-26 16:03:37,525] Trial 43 finished with value: 0.11542467049290944 and parameters: {'lags': 207}. Best is trial 17 with value: 0.11475373941940915.\n"
     ]
    },
    {
     "name": "stdout",
     "output_type": "stream",
     "text": [
      "Current Trial: 43\n",
      "Current value: 0.11542467049290944, Current params: {'lags': 207}\n",
      "Best value: 0.11475373941940915, Best params: {'lags': 204}\n"
     ]
    },
    {
     "name": "stderr",
     "output_type": "stream",
     "text": [
      "[I 2025-07-26 16:13:36,771] Trial 44 finished with value: 0.11579524921179267 and parameters: {'lags': 190}. Best is trial 17 with value: 0.11475373941940915.\n"
     ]
    },
    {
     "name": "stdout",
     "output_type": "stream",
     "text": [
      "Current Trial: 44\n",
      "Current value: 0.11579524921179267, Current params: {'lags': 190}\n",
      "Best value: 0.11475373941940915, Best params: {'lags': 204}\n"
     ]
    },
    {
     "name": "stderr",
     "output_type": "stream",
     "text": [
      "[I 2025-07-26 16:23:13,484] Trial 45 finished with value: 0.11570313040164877 and parameters: {'lags': 174}. Best is trial 17 with value: 0.11475373941940915.\n"
     ]
    },
    {
     "name": "stdout",
     "output_type": "stream",
     "text": [
      "Current Trial: 45\n",
      "Current value: 0.11570313040164877, Current params: {'lags': 174}\n",
      "Best value: 0.11475373941940915, Best params: {'lags': 204}\n"
     ]
    },
    {
     "name": "stderr",
     "output_type": "stream",
     "text": [
      "[I 2025-07-26 16:34:50,996] Trial 46 finished with value: 0.11528682439411199 and parameters: {'lags': 182}. Best is trial 17 with value: 0.11475373941940915.\n"
     ]
    },
    {
     "name": "stdout",
     "output_type": "stream",
     "text": [
      "Current Trial: 46\n",
      "Current value: 0.11528682439411199, Current params: {'lags': 182}\n",
      "Best value: 0.11475373941940915, Best params: {'lags': 204}\n"
     ]
    },
    {
     "name": "stderr",
     "output_type": "stream",
     "text": [
      "[I 2025-07-26 16:36:19,075] Trial 47 finished with value: 0.1520946052660528 and parameters: {'lags': 24}. Best is trial 17 with value: 0.11475373941940915.\n"
     ]
    },
    {
     "name": "stdout",
     "output_type": "stream",
     "text": [
      "Current Trial: 47\n",
      "Current value: 0.1520946052660528, Current params: {'lags': 24}\n",
      "Best value: 0.11475373941940915, Best params: {'lags': 204}\n"
     ]
    },
    {
     "name": "stderr",
     "output_type": "stream",
     "text": [
      "[I 2025-07-26 16:45:57,246] Trial 48 finished with value: 0.11557369469901091 and parameters: {'lags': 201}. Best is trial 17 with value: 0.11475373941940915.\n"
     ]
    },
    {
     "name": "stdout",
     "output_type": "stream",
     "text": [
      "Current Trial: 48\n",
      "Current value: 0.11557369469901091, Current params: {'lags': 201}\n",
      "Best value: 0.11475373941940915, Best params: {'lags': 204}\n"
     ]
    },
    {
     "name": "stderr",
     "output_type": "stream",
     "text": [
      "[I 2025-07-26 16:55:12,015] Trial 49 finished with value: 0.11605782608568332 and parameters: {'lags': 189}. Best is trial 17 with value: 0.11475373941940915.\n"
     ]
    },
    {
     "name": "stdout",
     "output_type": "stream",
     "text": [
      "Current Trial: 49\n",
      "Current value: 0.11605782608568332, Current params: {'lags': 189}\n",
      "Best value: 0.11475373941940915, Best params: {'lags': 204}\n"
     ]
    },
    {
     "name": "stderr",
     "output_type": "stream",
     "text": [
      "[I 2025-07-26 17:03:47,375] Trial 50 finished with value: 0.11600597808207384 and parameters: {'lags': 170}. Best is trial 17 with value: 0.11475373941940915.\n"
     ]
    },
    {
     "name": "stdout",
     "output_type": "stream",
     "text": [
      "Current Trial: 50\n",
      "Current value: 0.11600597808207384, Current params: {'lags': 170}\n",
      "Best value: 0.11475373941940915, Best params: {'lags': 204}\n"
     ]
    },
    {
     "name": "stderr",
     "output_type": "stream",
     "text": [
      "[I 2025-07-26 17:12:45,620] Trial 51 finished with value: 0.11518386469349219 and parameters: {'lags': 208}. Best is trial 17 with value: 0.11475373941940915.\n"
     ]
    },
    {
     "name": "stdout",
     "output_type": "stream",
     "text": [
      "Current Trial: 51\n",
      "Current value: 0.11518386469349219, Current params: {'lags': 208}\n",
      "Best value: 0.11475373941940915, Best params: {'lags': 204}\n"
     ]
    },
    {
     "name": "stderr",
     "output_type": "stream",
     "text": [
      "[I 2025-07-26 17:21:54,060] Trial 52 finished with value: 0.11518386469349219 and parameters: {'lags': 208}. Best is trial 17 with value: 0.11475373941940915.\n"
     ]
    },
    {
     "name": "stdout",
     "output_type": "stream",
     "text": [
      "Current Trial: 52\n",
      "Current value: 0.11518386469349219, Current params: {'lags': 208}\n",
      "Best value: 0.11475373941940915, Best params: {'lags': 204}\n"
     ]
    },
    {
     "name": "stderr",
     "output_type": "stream",
     "text": [
      "[I 2025-07-26 17:30:47,959] Trial 53 finished with value: 0.11613130950507915 and parameters: {'lags': 196}. Best is trial 17 with value: 0.11475373941940915.\n"
     ]
    },
    {
     "name": "stdout",
     "output_type": "stream",
     "text": [
      "Current Trial: 53\n",
      "Current value: 0.11613130950507915, Current params: {'lags': 196}\n",
      "Best value: 0.11475373941940915, Best params: {'lags': 204}\n"
     ]
    },
    {
     "name": "stderr",
     "output_type": "stream",
     "text": [
      "[I 2025-07-26 17:40:15,868] Trial 54 finished with value: 0.11592675616699095 and parameters: {'lags': 200}. Best is trial 17 with value: 0.11475373941940915.\n"
     ]
    },
    {
     "name": "stdout",
     "output_type": "stream",
     "text": [
      "Current Trial: 54\n",
      "Current value: 0.11592675616699095, Current params: {'lags': 200}\n",
      "Best value: 0.11475373941940915, Best params: {'lags': 204}\n"
     ]
    },
    {
     "name": "stderr",
     "output_type": "stream",
     "text": [
      "[I 2025-07-26 17:50:36,916] Trial 55 finished with value: 0.116399958730197 and parameters: {'lags': 178}. Best is trial 17 with value: 0.11475373941940915.\n"
     ]
    },
    {
     "name": "stdout",
     "output_type": "stream",
     "text": [
      "Current Trial: 55\n",
      "Current value: 0.116399958730197, Current params: {'lags': 178}\n",
      "Best value: 0.11475373941940915, Best params: {'lags': 204}\n"
     ]
    },
    {
     "name": "stderr",
     "output_type": "stream",
     "text": [
      "[I 2025-07-26 18:01:27,117] Trial 56 finished with value: 0.1158331574721001 and parameters: {'lags': 191}. Best is trial 17 with value: 0.11475373941940915.\n"
     ]
    },
    {
     "name": "stdout",
     "output_type": "stream",
     "text": [
      "Current Trial: 56\n",
      "Current value: 0.1158331574721001, Current params: {'lags': 191}\n",
      "Best value: 0.11475373941940915, Best params: {'lags': 204}\n"
     ]
    },
    {
     "name": "stderr",
     "output_type": "stream",
     "text": [
      "[I 2025-07-26 18:12:29,626] Trial 57 finished with value: 0.11491258578087508 and parameters: {'lags': 202}. Best is trial 17 with value: 0.11475373941940915.\n"
     ]
    },
    {
     "name": "stdout",
     "output_type": "stream",
     "text": [
      "Current Trial: 57\n",
      "Current value: 0.11491258578087508, Current params: {'lags': 202}\n",
      "Best value: 0.11475373941940915, Best params: {'lags': 204}\n"
     ]
    },
    {
     "name": "stderr",
     "output_type": "stream",
     "text": [
      "[I 2025-07-26 18:23:08,178] Trial 58 finished with value: 0.11665622151308826 and parameters: {'lags': 187}. Best is trial 17 with value: 0.11475373941940915.\n"
     ]
    },
    {
     "name": "stdout",
     "output_type": "stream",
     "text": [
      "Current Trial: 58\n",
      "Current value: 0.11665622151308826, Current params: {'lags': 187}\n",
      "Best value: 0.11475373941940915, Best params: {'lags': 204}\n"
     ]
    },
    {
     "name": "stderr",
     "output_type": "stream",
     "text": [
      "[I 2025-07-26 18:27:26,578] Trial 59 finished with value: 0.11957789265045603 and parameters: {'lags': 64}. Best is trial 17 with value: 0.11475373941940915.\n"
     ]
    },
    {
     "name": "stdout",
     "output_type": "stream",
     "text": [
      "Current Trial: 59\n",
      "Current value: 0.11957789265045603, Current params: {'lags': 64}\n",
      "Best value: 0.11475373941940915, Best params: {'lags': 204}\n"
     ]
    },
    {
     "name": "stderr",
     "output_type": "stream",
     "text": [
      "[I 2025-07-26 18:34:36,762] Trial 60 finished with value: 0.11949722653922475 and parameters: {'lags': 114}. Best is trial 17 with value: 0.11475373941940915.\n"
     ]
    },
    {
     "name": "stdout",
     "output_type": "stream",
     "text": [
      "Current Trial: 60\n",
      "Current value: 0.11949722653922475, Current params: {'lags': 114}\n",
      "Best value: 0.11475373941940915, Best params: {'lags': 204}\n"
     ]
    },
    {
     "name": "stderr",
     "output_type": "stream",
     "text": [
      "[I 2025-07-26 18:46:08,144] Trial 61 finished with value: 0.114129009713914 and parameters: {'lags': 203}. Best is trial 61 with value: 0.114129009713914.\n"
     ]
    },
    {
     "name": "stdout",
     "output_type": "stream",
     "text": [
      "Current Trial: 61\n",
      "Current value: 0.114129009713914, Current params: {'lags': 203}\n",
      "Best value: 0.114129009713914, Best params: {'lags': 203}\n"
     ]
    },
    {
     "name": "stderr",
     "output_type": "stream",
     "text": [
      "[I 2025-07-26 18:56:42,495] Trial 62 finished with value: 0.114129009713914 and parameters: {'lags': 203}. Best is trial 61 with value: 0.114129009713914.\n"
     ]
    },
    {
     "name": "stdout",
     "output_type": "stream",
     "text": [
      "Current Trial: 62\n",
      "Current value: 0.114129009713914, Current params: {'lags': 203}\n",
      "Best value: 0.114129009713914, Best params: {'lags': 203}\n"
     ]
    },
    {
     "name": "stderr",
     "output_type": "stream",
     "text": [
      "[I 2025-07-26 19:06:45,753] Trial 63 finished with value: 0.11557369469901091 and parameters: {'lags': 201}. Best is trial 61 with value: 0.114129009713914.\n"
     ]
    },
    {
     "name": "stdout",
     "output_type": "stream",
     "text": [
      "Current Trial: 63\n",
      "Current value: 0.11557369469901091, Current params: {'lags': 201}\n",
      "Best value: 0.114129009713914, Best params: {'lags': 203}\n"
     ]
    }
   ],
   "source": [
    "sampler3 = TPESampler(seed = random_seed)\n",
    "study3 = optuna.create_study(direction = \"minimize\", sampler = sampler3)\n",
    "\n",
    "study3.optimize(lambda trial: climate_objective(trial, \"XGBoost\", retrain_per_fold = retrain_per_fold), callbacks = [print_callback], n_trials = 64)"
   ]
  },
  {
   "cell_type": "code",
   "execution_count": 21,
   "id": "1208f335-edce-4a2f-a11f-63faa2b11af4",
   "metadata": {},
   "outputs": [],
   "source": [
    "write_study(study3, \"XGBoost\")"
   ]
  }
 ],
 "metadata": {
  "kernelspec": {
   "display_name": "Python 3 (ipykernel)",
   "language": "python",
   "name": "python3"
  },
  "language_info": {
   "codemirror_mode": {
    "name": "ipython",
    "version": 3
   },
   "file_extension": ".py",
   "mimetype": "text/x-python",
   "name": "python",
   "nbconvert_exporter": "python",
   "pygments_lexer": "ipython3",
   "version": "3.11.13"
  }
 },
 "nbformat": 4,
 "nbformat_minor": 5
}
