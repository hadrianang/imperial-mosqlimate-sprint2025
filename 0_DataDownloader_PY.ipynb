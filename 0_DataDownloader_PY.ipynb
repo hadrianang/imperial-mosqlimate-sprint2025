{
 "cells": [
  {
   "cell_type": "code",
   "execution_count": null,
   "id": "1a18e366-7bf0-44f3-8a3c-6a06dba10daa",
   "metadata": {},
   "outputs": [],
   "source": [
    "import pandas as pd\n",
    "import os\n",
    "import mosqlient\n",
    "import requests"
   ]
  },
  {
   "cell_type": "code",
   "execution_count": null,
   "id": "c52ee686-5e20-45ec-9029-7d6114064f4f",
   "metadata": {},
   "outputs": [],
   "source": [
    "base_dir = os.getcwd()\n",
    "raw_data_dir = os.path.join(base_dir, \"data_sprint_2025\")\n",
    "\n",
    "geo_df = pd.read_csv(os.path.join(raw_data_dir, \"map_regional_health.csv\"))"
   ]
  },
  {
   "cell_type": "code",
   "execution_count": null,
   "id": "07536b9c-0274-4bd4-a0d6-dd205135cb0b",
   "metadata": {},
   "outputs": [],
   "source": [
    "uf_list = geo_df[\"uf\"].unique()\n",
    "\n",
    "start_date = \"2025-01-01\"\n",
    "end_date = \"2025-07-05\"\n",
    "api_key = \"add_api_key\""
   ]
  },
  {
   "cell_type": "code",
   "execution_count": null,
   "id": "b2c53667-3c44-4c98-99d9-6fcc69920c3d",
   "metadata": {},
   "outputs": [],
   "source": [
    "builder = []\n",
    "\n",
    "for curr_uf in uf_list: \n",
    "    curr_geo_df = geo_df[geo_df[\"uf\"] == curr_uf]\n",
    "    curr_geocode_list = curr_geo_df[\"geocode\"]\n",
    "    for curr_geocode in curr_geocode_list: \n",
    "        result = mosqlient.get_climate(\n",
    "            api_key = api_key,\n",
    "            start_date = start_date,\n",
    "            end_date = end_date,\n",
    "            uf = curr_uf,\n",
    "            geocode = curr_geocode\n",
    "        )\n",
    "        builder.append(result)"
   ]
  },
  {
   "cell_type": "code",
   "execution_count": null,
   "id": "716e6cb6-99e6-4a58-b411-4abb16fc9ed6",
   "metadata": {},
   "outputs": [],
   "source": [
    "dataset = pd.concat(builder)"
   ]
  },
  {
   "cell_type": "code",
   "execution_count": null,
   "id": "4e0c745b-5969-422b-9556-8afea9a8decc",
   "metadata": {},
   "outputs": [],
   "source": [
    "dataset.to_csv(\"output.csv\")"
   ]
  },
  {
   "cell_type": "code",
   "execution_count": null,
   "id": "e501e216-dc0a-4a51-8a7d-bfcbe4132bde",
   "metadata": {},
   "outputs": [],
   "source": [
    "dataset"
   ]
  }
 ],
 "metadata": {
  "kernelspec": {
   "display_name": "Python 3 (ipykernel)",
   "language": "python",
   "name": "python3"
  },
  "language_info": {
   "codemirror_mode": {
    "name": "ipython",
    "version": 3
   },
   "file_extension": ".py",
   "mimetype": "text/x-python",
   "name": "python",
   "nbconvert_exporter": "python",
   "pygments_lexer": "ipython3",
   "version": "3.12.10"
  }
 },
 "nbformat": 4,
 "nbformat_minor": 5
}
